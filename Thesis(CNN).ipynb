{
 "cells": [
  {
   "cell_type": "code",
   "execution_count": 1,
   "id": "_RwLFJ68JuEc",
   "metadata": {
    "colab": {
     "base_uri": "https://localhost:8080/"
    },
    "executionInfo": {
     "elapsed": 22569,
     "status": "ok",
     "timestamp": 1646464731061,
     "user": {
      "displayName": "Rudy Rachman",
      "photoUrl": "https://lh3.googleusercontent.com/a-/AOh14GjR_ga8owJunwGO3oOaTniUXc7H7F1oiQY22lOo=s64",
      "userId": "03977462672844851008"
     },
     "user_tz": -480
    },
    "id": "_RwLFJ68JuEc",
    "outputId": "f5903707-4b04-4f9d-b506-ec07dc1c830e"
   },
   "outputs": [],
   "source": [
    "# from google.colab import drive\n",
    "# drive.mount('/content/drive/')"
   ]
  },
  {
   "cell_type": "code",
   "execution_count": 2,
   "id": "0hSa08OpLIZ7",
   "metadata": {
    "colab": {
     "base_uri": "https://localhost:8080/"
    },
    "executionInfo": {
     "elapsed": 10,
     "status": "ok",
     "timestamp": 1646464731062,
     "user": {
      "displayName": "Rudy Rachman",
      "photoUrl": "https://lh3.googleusercontent.com/a-/AOh14GjR_ga8owJunwGO3oOaTniUXc7H7F1oiQY22lOo=s64",
      "userId": "03977462672844851008"
     },
     "user_tz": -480
    },
    "id": "0hSa08OpLIZ7",
    "outputId": "87295322-62cc-4bc1-ceea-98a6fda9acae"
   },
   "outputs": [],
   "source": [
    "# %cd drive/MyDrive/skripsi/"
   ]
  },
  {
   "cell_type": "code",
   "execution_count": 3,
   "id": "pEquCKcqLavN",
   "metadata": {
    "colab": {
     "base_uri": "https://localhost:8080/"
    },
    "executionInfo": {
     "elapsed": 41403,
     "status": "ok",
     "timestamp": 1646464772458,
     "user": {
      "displayName": "Rudy Rachman",
      "photoUrl": "https://lh3.googleusercontent.com/a-/AOh14GjR_ga8owJunwGO3oOaTniUXc7H7F1oiQY22lOo=s64",
      "userId": "03977462672844851008"
     },
     "user_tz": -480
    },
    "id": "pEquCKcqLavN",
    "outputId": "c3bef6a9-392d-44c1-ed04-a708a5f736b6"
   },
   "outputs": [],
   "source": [
    "# !pip uninstall -y tensorflow \n",
    "# !pip install tensorflow==2.0\n",
    "\n",
    "# !pip uninstall -y h5py \n",
    "# !pip install h5py==2.10"
   ]
  },
  {
   "cell_type": "code",
   "execution_count": 4,
   "id": "94ac360f",
   "metadata": {
    "colab": {
     "base_uri": "https://localhost:8080/",
     "height": 35
    },
    "executionInfo": {
     "elapsed": 10917,
     "status": "ok",
     "timestamp": 1646464783366,
     "user": {
      "displayName": "Rudy Rachman",
      "photoUrl": "https://lh3.googleusercontent.com/a-/AOh14GjR_ga8owJunwGO3oOaTniUXc7H7F1oiQY22lOo=s64",
      "userId": "03977462672844851008"
     },
     "user_tz": -480
    },
    "id": "94ac360f",
    "outputId": "b1304ed8-55e9-4678-bbae-cd6cf4eabc96"
   },
   "outputs": [
    {
     "data": {
      "text/plain": [
       "'2.1.0'"
      ]
     },
     "execution_count": 4,
     "metadata": {},
     "output_type": "execute_result"
    }
   ],
   "source": [
    "import tensorflow as tf, matplotlib.pyplot as plt, os, numpy as np, matplotlib.pyplot as plt, matplotlib.patches as patches\n",
    "from tensorflow.keras.callbacks import ModelCheckpoint, TensorBoard\n",
    "from framework.utils import bbox_utils, data_utils, drawing_utils, eval_utils, io_utils, train_utils\n",
    "from framework.models import faster_rcnn\n",
    "\n",
    "tf.__version__  # if not 2.0.0 please uncomment pip uninstall and install, make sure your python version is 3.7.x"
   ]
  },
  {
   "cell_type": "code",
   "execution_count": 5,
   "id": "z24O3mwql6fJ",
   "metadata": {
    "colab": {
     "base_uri": "https://localhost:8080/",
     "height": 35
    },
    "executionInfo": {
     "elapsed": 8,
     "status": "ok",
     "timestamp": 1646464783367,
     "user": {
      "displayName": "Rudy Rachman",
      "photoUrl": "https://lh3.googleusercontent.com/a-/AOh14GjR_ga8owJunwGO3oOaTniUXc7H7F1oiQY22lOo=s64",
      "userId": "03977462672844851008"
     },
     "user_tz": -480
    },
    "id": "z24O3mwql6fJ",
    "outputId": "a65dbdad-ba6b-4895-b220-fe4635c75f94"
   },
   "outputs": [
    {
     "data": {
      "text/plain": [
       "'2.10.0'"
      ]
     },
     "execution_count": 5,
     "metadata": {},
     "output_type": "execute_result"
    }
   ],
   "source": [
    "import h5py\n",
    "h5py.__version__  # if not 2.10.0 please uncomment pip uninstall and install, make sure your python version is 3.7.x"
   ]
  },
  {
   "cell_type": "markdown",
   "id": "741bc394",
   "metadata": {
    "id": "741bc394"
   },
   "source": [
    "# Read Dataset from TFRecord"
   ]
  },
  {
   "cell_type": "code",
   "execution_count": null,
   "id": "574c7d6e",
   "metadata": {
    "executionInfo": {
     "elapsed": 7,
     "status": "ok",
     "timestamp": 1646464783367,
     "user": {
      "displayName": "Rudy Rachman",
      "photoUrl": "https://lh3.googleusercontent.com/a-/AOh14GjR_ga8owJunwGO3oOaTniUXc7H7F1oiQY22lOo=s64",
      "userId": "03977462672844851008"
     },
     "user_tz": -480
    },
    "id": "574c7d6e"
   },
   "outputs": [],
   "source": [
    "AUTOTUNE = tf.data.experimental.AUTOTUNE\n",
    "IMAGE_SIZE = 512  # make sure had same size with the picture"
   ]
  },
  {
   "cell_type": "code",
   "execution_count": null,
   "id": "a76049aa",
   "metadata": {
    "executionInfo": {
     "elapsed": 8,
     "status": "ok",
     "timestamp": 1646464783368,
     "user": {
      "displayName": "Rudy Rachman",
      "photoUrl": "https://lh3.googleusercontent.com/a-/AOh14GjR_ga8owJunwGO3oOaTniUXc7H7F1oiQY22lOo=s64",
      "userId": "03977462672844851008"
     },
     "user_tz": -480
    },
    "id": "a76049aa"
   },
   "outputs": [],
   "source": [
    "def read_tfrecord(example):\n",
    "    tfrecord_format = {\n",
    "        \"filename\": tf.io.FixedLenFeature([], tf.string),\n",
    "        \"pic\": tf.io.FixedLenFeature([], tf.string),\n",
    "        \"bbox\": tf.io.FixedLenFeature([], tf.string),\n",
    "        \"label\": tf.io.FixedLenFeature([], tf.string)\n",
    "    }\n",
    "    example = tf.io.parse_single_example(example, tfrecord_format)\n",
    "    filename = tf.cast(example[\"filename\"], tf.string)\n",
    "    image = tf.io.parse_tensor(example[\"pic\"], out_type = tf.uint8)\n",
    "    bbox = tf.io.parse_tensor(example[\"bbox\"], out_type = tf.float32)\n",
    "    label = tf.io.parse_tensor(example[\"label\"], out_type = tf.int32)\n",
    "    return {\"filename\": filename, \"image\": image, \"bbox\": bbox, \"label\": label}"
   ]
  },
  {
   "cell_type": "code",
   "execution_count": null,
   "id": "b7dc4e7f",
   "metadata": {
    "executionInfo": {
     "elapsed": 7,
     "status": "ok",
     "timestamp": 1646464783368,
     "user": {
      "displayName": "Rudy Rachman",
      "photoUrl": "https://lh3.googleusercontent.com/a-/AOh14GjR_ga8owJunwGO3oOaTniUXc7H7F1oiQY22lOo=s64",
      "userId": "03977462672844851008"
     },
     "user_tz": -480
    },
    "id": "b7dc4e7f"
   },
   "outputs": [],
   "source": [
    "def load_dataset(filenames):\n",
    "    ignore_order = tf.data.Options()\n",
    "    ignore_order.experimental_deterministic = False  # disable order, increase speed\n",
    "    dataset = tf.data.TFRecordDataset(filenames)  # automatically interleaves reads from multiple files\n",
    "    dataset = dataset.with_options(ignore_order)  # uses data as soon as it streams in, rather than in its original order\n",
    "    dataset = dataset.map(read_tfrecord)\n",
    "    return dataset"
   ]
  },
  {
   "cell_type": "code",
   "execution_count": null,
   "id": "55a6b241",
   "metadata": {
    "executionInfo": {
     "elapsed": 8,
     "status": "ok",
     "timestamp": 1646464783369,
     "user": {
      "displayName": "Rudy Rachman",
      "photoUrl": "https://lh3.googleusercontent.com/a-/AOh14GjR_ga8owJunwGO3oOaTniUXc7H7F1oiQY22lOo=s64",
      "userId": "03977462672844851008"
     },
     "user_tz": -480
    },
    "id": "55a6b241"
   },
   "outputs": [],
   "source": [
    "def get_dataset(filenames):\n",
    "    dataset = load_dataset(filenames)\n",
    "    dataset = dataset.shuffle(2048)\n",
    "    dataset = dataset.prefetch(buffer_size=AUTOTUNE)\n",
    "    return dataset"
   ]
  },
  {
   "cell_type": "code",
   "execution_count": null,
   "id": "0fc132b0",
   "metadata": {
    "executionInfo": {
     "elapsed": 8,
     "status": "ok",
     "timestamp": 1646464783369,
     "user": {
      "displayName": "Rudy Rachman",
      "photoUrl": "https://lh3.googleusercontent.com/a-/AOh14GjR_ga8owJunwGO3oOaTniUXc7H7F1oiQY22lOo=s64",
      "userId": "03977462672844851008"
     },
     "user_tz": -480
    },
    "id": "0fc132b0"
   },
   "outputs": [],
   "source": [
    "def read_label_map(label_map_path):\n",
    "    item_id = None\n",
    "    item_name = None\n",
    "    items = {}\n",
    "\n",
    "    with open(label_map_path, \"r\") as file:\n",
    "        for line in file:\n",
    "            line.replace(\" \", \"\")\n",
    "            if line == \"item{\":\n",
    "                pass\n",
    "            elif line == \"}\":\n",
    "                pass\n",
    "            elif \"id\" in line:\n",
    "                item_id = int(line.split(\":\", 1)[1].strip())\n",
    "            elif \"name\" in line:\n",
    "                item_name = line.split(\":\", 1)[1].replace(\"'\", \"\").replace(\"\\\"\", \"\").strip()\n",
    "\n",
    "            if item_id is not None and item_name is not None:\n",
    "                items[item_name] = item_id\n",
    "                item_id = None\n",
    "                item_name = None\n",
    "\n",
    "    return items"
   ]
  },
  {
   "cell_type": "code",
   "execution_count": null,
   "id": "b8135524",
   "metadata": {
    "executionInfo": {
     "elapsed": 659,
     "status": "ok",
     "timestamp": 1646464784021,
     "user": {
      "displayName": "Rudy Rachman",
      "photoUrl": "https://lh3.googleusercontent.com/a-/AOh14GjR_ga8owJunwGO3oOaTniUXc7H7F1oiQY22lOo=s64",
      "userId": "03977462672844851008"
     },
     "user_tz": -480
    },
    "id": "b8135524"
   },
   "outputs": [],
   "source": [
    "label_map_path = \"./data_preparation/label_map.pbtxt\"\n",
    "label_map_dict = read_label_map(label_map_path)"
   ]
  },
  {
   "cell_type": "code",
   "execution_count": null,
   "id": "17ca36eb",
   "metadata": {
    "executionInfo": {
     "elapsed": 4,
     "status": "ok",
     "timestamp": 1646464784022,
     "user": {
      "displayName": "Rudy Rachman",
      "photoUrl": "https://lh3.googleusercontent.com/a-/AOh14GjR_ga8owJunwGO3oOaTniUXc7H7F1oiQY22lOo=s64",
      "userId": "03977462672844851008"
     },
     "user_tz": -480
    },
    "id": "17ca36eb"
   },
   "outputs": [],
   "source": [
    "def get_label_text(result, doc = label_map_dict):\n",
    "    for key, value in doc.items():\n",
    "        if(value == result + 1):\n",
    "            return key\n",
    "    return \"Unpredictable\""
   ]
  },
  {
   "cell_type": "code",
   "execution_count": null,
   "id": "40c679cd",
   "metadata": {
    "colab": {
     "base_uri": "https://localhost:8080/"
    },
    "executionInfo": {
     "elapsed": 918,
     "status": "ok",
     "timestamp": 1646464784937,
     "user": {
      "displayName": "Rudy Rachman",
      "photoUrl": "https://lh3.googleusercontent.com/a-/AOh14GjR_ga8owJunwGO3oOaTniUXc7H7F1oiQY22lOo=s64",
      "userId": "03977462672844851008"
     },
     "user_tz": -480
    },
    "id": "40c679cd",
    "outputId": "0991175b-d0ee-4051-f6ed-3c295c4a6ce6",
    "scrolled": true
   },
   "outputs": [],
   "source": [
    "train_data = get_dataset(\"./data_preparation/train.tfrecord\")\n",
    "\n",
    "test_data = get_dataset(\"./data_preparation/test.tfrecord\")\n",
    "\n",
    "train_data"
   ]
  },
  {
   "cell_type": "code",
   "execution_count": null,
   "id": "18140a61",
   "metadata": {
    "executionInfo": {
     "elapsed": 3,
     "status": "ok",
     "timestamp": 1646464784937,
     "user": {
      "displayName": "Rudy Rachman",
      "photoUrl": "https://lh3.googleusercontent.com/a-/AOh14GjR_ga8owJunwGO3oOaTniUXc7H7F1oiQY22lOo=s64",
      "userId": "03977462672844851008"
     },
     "user_tz": -480
    },
    "id": "18140a61"
   },
   "outputs": [],
   "source": [
    "def show_data(data, n):\n",
    "    print(data)\n",
    "    for dat in data.take(n):\n",
    "        plt.imshow(dat[\"image\"])\n",
    "        for coord in dat[\"bbox\"]: # bbox is ymin, xmin, ymax, xmax\n",
    "            coord *= IMAGE_SIZE\n",
    "            rect = patches.Rectangle(\n",
    "                (coord[1].numpy(), coord[0].numpy()),  # x1, y1\n",
    "                coord[3].numpy() - coord[1].numpy(),  # width\n",
    "                coord[2].numpy() - coord[0].numpy(),  # height\n",
    "                linewidth = 2, edgecolor = \"r\", fill = False)\n",
    "            plt.gca().add_patch(rect)\n",
    "        plt.show()"
   ]
  },
  {
   "cell_type": "code",
   "execution_count": null,
   "id": "c4c6670f",
   "metadata": {
    "executionInfo": {
     "elapsed": 5,
     "status": "ok",
     "timestamp": 1646464784939,
     "user": {
      "displayName": "Rudy Rachman",
      "photoUrl": "https://lh3.googleusercontent.com/a-/AOh14GjR_ga8owJunwGO3oOaTniUXc7H7F1oiQY22lOo=s64",
      "userId": "03977462672844851008"
     },
     "user_tz": -480
    },
    "id": "c4c6670f"
   },
   "outputs": [],
   "source": [
    "# show_data(train_data, 20)"
   ]
  },
  {
   "cell_type": "markdown",
   "id": "40d963e4",
   "metadata": {
    "id": "40d963e4"
   },
   "source": [
    "# Train Model"
   ]
  },
  {
   "cell_type": "code",
   "execution_count": null,
   "id": "f6916477",
   "metadata": {
    "executionInfo": {
     "elapsed": 15225,
     "status": "ok",
     "timestamp": 1646464800160,
     "user": {
      "displayName": "Rudy Rachman",
      "photoUrl": "https://lh3.googleusercontent.com/a-/AOh14GjR_ga8owJunwGO3oOaTniUXc7H7F1oiQY22lOo=s64",
      "userId": "03977462672844851008"
     },
     "user_tz": -480
    },
    "id": "f6916477"
   },
   "outputs": [],
   "source": [
    "batch_size = 4\n",
    "epochs = 10\n",
    "load_weights = False\n",
    "backbone = \"resnet50\"\n",
    "\n",
    "hyper_params = train_utils.get_hyper_params(backbone)\n",
    "train_total_item = len(list(train_data))"
   ]
  },
  {
   "cell_type": "code",
   "execution_count": null,
   "id": "29f3627f",
   "metadata": {
    "executionInfo": {
     "elapsed": 1097,
     "status": "ok",
     "timestamp": 1646464801255,
     "user": {
      "displayName": "Rudy Rachman",
      "photoUrl": "https://lh3.googleusercontent.com/a-/AOh14GjR_ga8owJunwGO3oOaTniUXc7H7F1oiQY22lOo=s64",
      "userId": "03977462672844851008"
     },
     "user_tz": -480
    },
    "id": "29f3627f"
   },
   "outputs": [],
   "source": [
    "labels = list(label_map_dict.keys())\n",
    "# We add 1 class for background\n",
    "hyper_params[\"total_labels\"] = len(labels) + 1\n",
    "train_data = train_data.map(lambda data : data_utils.preprocessing_before_frcnn(data, IMAGE_SIZE, IMAGE_SIZE))"
   ]
  },
  {
   "cell_type": "code",
   "execution_count": null,
   "id": "75ad2ae2",
   "metadata": {
    "executionInfo": {
     "elapsed": 4,
     "status": "ok",
     "timestamp": 1646464801256,
     "user": {
      "displayName": "Rudy Rachman",
      "photoUrl": "https://lh3.googleusercontent.com/a-/AOh14GjR_ga8owJunwGO3oOaTniUXc7H7F1oiQY22lOo=s64",
      "userId": "03977462672844851008"
     },
     "user_tz": -480
    },
    "id": "75ad2ae2"
   },
   "outputs": [],
   "source": [
    "data_shapes = data_utils.get_data_shapes()\n",
    "padding_values = data_utils.get_padding_values()\n",
    "train_data = train_data.padded_batch(batch_size, padded_shapes=data_shapes, padding_values=padding_values)"
   ]
  },
  {
   "cell_type": "code",
   "execution_count": null,
   "id": "d25c0b2e",
   "metadata": {
    "executionInfo": {
     "elapsed": 3,
     "status": "ok",
     "timestamp": 1646464801256,
     "user": {
      "displayName": "Rudy Rachman",
      "photoUrl": "https://lh3.googleusercontent.com/a-/AOh14GjR_ga8owJunwGO3oOaTniUXc7H7F1oiQY22lOo=s64",
      "userId": "03977462672844851008"
     },
     "user_tz": -480
    },
    "id": "d25c0b2e"
   },
   "outputs": [],
   "source": [
    "anchors = bbox_utils.generate_anchors(hyper_params)\n",
    "frcnn_train_feed = train_utils.faster_rcnn_generator(train_data, anchors, hyper_params)"
   ]
  },
  {
   "cell_type": "code",
   "execution_count": null,
   "id": "7487d397",
   "metadata": {
    "colab": {
     "base_uri": "https://localhost:8080/"
    },
    "executionInfo": {
     "elapsed": 21025,
     "status": "ok",
     "timestamp": 1646464822278,
     "user": {
      "displayName": "Rudy Rachman",
      "photoUrl": "https://lh3.googleusercontent.com/a-/AOh14GjR_ga8owJunwGO3oOaTniUXc7H7F1oiQY22lOo=s64",
      "userId": "03977462672844851008"
     },
     "user_tz": -480
    },
    "id": "7487d397",
    "outputId": "995f03ba-3f31-4ae9-8950-28d92bad9500"
   },
   "outputs": [],
   "source": [
    "if (backbone == \"vgg16\"):\n",
    "    from framework.models.rpn_vgg16 import get_rpn_model\n",
    "elif (backbone == \"mobilenet_v2\"):\n",
    "    from framework.models.rpn_mobilenet_v2 import get_rpn_model\n",
    "elif (backbone == \"resnet50\"):\n",
    "    from framework.models.rpn_resnet50 import get_rpn_model\n",
    "\n",
    "rpn_model, feature_extractor = get_rpn_model(hyper_params)\n",
    "frcnn_model = faster_rcnn.get_model_frcnn(feature_extractor, rpn_model, anchors, hyper_params)\n",
    "frcnn_model.compile(optimizer=tf.optimizers.SGD(learning_rate=18e-4),\n",
    "                    loss=[None] * len(frcnn_model.output))\n",
    "faster_rcnn.init_model_frcnn(frcnn_model, hyper_params)"
   ]
  },
  {
   "cell_type": "code",
   "execution_count": null,
   "id": "tLGd37WDOGX1",
   "metadata": {
    "executionInfo": {
     "elapsed": 17,
     "status": "ok",
     "timestamp": 1646464822278,
     "user": {
      "displayName": "Rudy Rachman",
      "photoUrl": "https://lh3.googleusercontent.com/a-/AOh14GjR_ga8owJunwGO3oOaTniUXc7H7F1oiQY22lOo=s64",
      "userId": "03977462672844851008"
     },
     "user_tz": -480
    },
    "id": "tLGd37WDOGX1"
   },
   "outputs": [],
   "source": [
    "# Load weights\n",
    "frcnn_model_path = io_utils.get_model_path(\"faster_rcnn\", backbone)\n",
    "\n",
    "load_weights = False\n",
    "if load_weights:\n",
    "    frcnn_model.load_weights(frcnn_model_path)\n",
    "log_path = io_utils.get_log_path(\"faster_rcnn\", backbone)\n",
    "\n",
    "checkpoint_callback = ModelCheckpoint(frcnn_model_path, monitor=\"loss\", save_best_only=True, save_weights_only=True)\n",
    "# tensorboard_callback = TensorBoard(log_dir=log_path)"
   ]
  },
  {
   "cell_type": "code",
   "execution_count": null,
   "id": "5qqEJWqQP8O2",
   "metadata": {
    "colab": {
     "base_uri": "https://localhost:8080/"
    },
    "id": "5qqEJWqQP8O2",
    "outputId": "fd2a09c3-6ce0-4474-9d7e-8f99ed5a6c1c"
   },
   "outputs": [],
   "source": [
    "step_size_train = train_utils.get_step_size(train_total_item, batch_size)\n",
    "history = frcnn_model.fit(frcnn_train_feed,\n",
    "                steps_per_epoch=step_size_train,\n",
    "                verbose = 1,\n",
    "                epochs=epochs,\n",
    "                callbacks=[checkpoint_callback])"
   ]
  },
  {
   "cell_type": "markdown",
   "id": "PWCSCIIPeJrq",
   "metadata": {
    "id": "PWCSCIIPeJrq"
   },
   "source": [
    "# Evaluate Model"
   ]
  },
  {
   "cell_type": "code",
   "execution_count": null,
   "id": "RMRo068ufZI-",
   "metadata": {
    "id": "RMRo068ufZI-"
   },
   "outputs": [],
   "source": [
    "# labels = [\"bg\"] + labels\n",
    "# test_total_item = len(list(test_data))\n",
    "\n",
    "# test_data = test_data.map(lambda data : data_utils.preprocessing_before_frcnn(\n",
    "#                               data, IMAGE_SIZE, IMAGE_SIZE))\n",
    "# test_data = test_data.padded_batch(\n",
    "#     batch_size, padded_shapes=data_shapes, padding_values=padding_values)"
   ]
  },
  {
   "cell_type": "code",
   "execution_count": null,
   "id": "h36S6fBh28H6",
   "metadata": {
    "id": "h36S6fBh28H6"
   },
   "outputs": [],
   "source": [
    "# load_path = io_utils.get_model_path(\"faster_rcnn\", backbone)\n",
    "# rpn_model, feature_extractor = rpn_vgg16.get_model_vgg16(hyper_params)\n",
    "# frcnn_test_model = faster_rcnn.get_model_frcnn(feature_extractor, rpn_model, anchors, hyper_params, mode=\"test\")\n",
    "# frcnn_test_model.load_weights(load_path)"
   ]
  },
  {
   "cell_type": "code",
   "execution_count": null,
   "id": "G2HEsiCb4XwS",
   "metadata": {
    "id": "G2HEsiCb4XwS"
   },
   "outputs": [],
   "source": [
    "# hyper_params[\"total_labels\"]"
   ]
  },
  {
   "cell_type": "code",
   "execution_count": null,
   "id": "lyEsUe1YeLkH",
   "metadata": {
    "id": "lyEsUe1YeLkH"
   },
   "outputs": [],
   "source": [
    "# step_size = train_utils.get_step_size(test_total_item, batch_size)\n",
    "# pred_bboxes, pred_labels, pred_scores = frcnn_test_model.predict(test_data, steps=step_size, verbose=1)"
   ]
  },
  {
   "cell_type": "code",
   "execution_count": null,
   "id": "e1b7iKriejFX",
   "metadata": {
    "id": "e1b7iKriejFX"
   },
   "outputs": [],
   "source": [
    "# pred_bboxes"
   ]
  },
  {
   "cell_type": "code",
   "execution_count": null,
   "id": "pZ_JXOzoekM6",
   "metadata": {
    "id": "pZ_JXOzoekM6"
   },
   "outputs": [],
   "source": [
    "# pred_labels"
   ]
  },
  {
   "cell_type": "code",
   "execution_count": null,
   "id": "9c8NUWVnel9G",
   "metadata": {
    "id": "9c8NUWVnel9G"
   },
   "outputs": [],
   "source": [
    "# pred_scores"
   ]
  },
  {
   "cell_type": "code",
   "execution_count": null,
   "id": "ID1sT640en3d",
   "metadata": {
    "id": "ID1sT640en3d"
   },
   "outputs": [],
   "source": [
    "# eval_utils.evaluate_predictions(test_data, pred_bboxes, pred_labels, pred_scores, labels, batch_size)"
   ]
  }
 ],
 "metadata": {
  "accelerator": "GPU",
  "colab": {
   "collapsed_sections": [
    "741bc394"
   ],
   "name": "Copy of Thesis(CNN).ipynb",
   "provenance": [
    {
     "file_id": "https://github.com/ruman1609/pothole-crack-faster-rcnn-detection/blob/master/Thesis(CNN).ipynb",
     "timestamp": 1646134510068
    }
   ]
  },
  "kernelspec": {
   "display_name": "Python 3 (ipykernel)",
   "language": "python",
   "name": "python3"
  },
  "language_info": {
   "codemirror_mode": {
    "name": "ipython",
    "version": 3
   },
   "file_extension": ".py",
   "mimetype": "text/x-python",
   "name": "python",
   "nbconvert_exporter": "python",
   "pygments_lexer": "ipython3",
   "version": "3.7.9"
  }
 },
 "nbformat": 4,
 "nbformat_minor": 5
}

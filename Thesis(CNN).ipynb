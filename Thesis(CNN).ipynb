{
 "cells": [
  {
   "cell_type": "code",
   "execution_count": null,
   "id": "pEquCKcqLavN",
   "metadata": {
    "colab": {
     "base_uri": "https://localhost:8080/"
    },
    "executionInfo": {
     "elapsed": 69715,
     "status": "ok",
     "timestamp": 1646637627863,
     "user": {
      "displayName": "Flixnet Lite",
      "photoUrl": "https://lh3.googleusercontent.com/a/default-user=s64",
      "userId": "13549897492241366769"
     },
     "user_tz": -480
    },
    "id": "pEquCKcqLavN",
    "outputId": "bf8b4865-3f94-4018-cf40-e487e22cfe08"
   },
   "outputs": [],
   "source": [
    "# !pip uninstall -y tensorflow h5py\n",
    "# !pip install tensorflow==2.1 h5py==2.10"
   ]
  },
  {
   "cell_type": "markdown",
   "id": "c_C2TIsGJJlI",
   "metadata": {
    "id": "c_C2TIsGJJlI"
   },
   "source": [
    "# Setup"
   ]
  },
  {
   "cell_type": "code",
   "execution_count": null,
   "id": "_RwLFJ68JuEc",
   "metadata": {
    "colab": {
     "base_uri": "https://localhost:8080/"
    },
    "executionInfo": {
     "elapsed": 58949,
     "status": "ok",
     "timestamp": 1646637686802,
     "user": {
      "displayName": "Flixnet Lite",
      "photoUrl": "https://lh3.googleusercontent.com/a/default-user=s64",
      "userId": "13549897492241366769"
     },
     "user_tz": -480
    },
    "id": "_RwLFJ68JuEc",
    "outputId": "52165776-64ec-4b10-ffc3-8e51807a6e72"
   },
   "outputs": [],
   "source": [
    "# from google.colab import drive\n",
    "# drive.mount('/content/drive/')"
   ]
  },
  {
   "cell_type": "code",
   "execution_count": null,
   "id": "0hSa08OpLIZ7",
   "metadata": {
    "colab": {
     "base_uri": "https://localhost:8080/"
    },
    "executionInfo": {
     "elapsed": 5,
     "status": "ok",
     "timestamp": 1646637686803,
     "user": {
      "displayName": "Flixnet Lite",
      "photoUrl": "https://lh3.googleusercontent.com/a/default-user=s64",
      "userId": "13549897492241366769"
     },
     "user_tz": -480
    },
    "id": "0hSa08OpLIZ7",
    "outputId": "00a2696e-b986-4e24-ecbd-99beb07e5276"
   },
   "outputs": [],
   "source": [
    "# %cd drive/MyDrive/skripsi/"
   ]
  },
  {
   "cell_type": "code",
   "execution_count": 1,
   "id": "94ac360f",
   "metadata": {
    "colab": {
     "base_uri": "https://localhost:8080/",
     "height": 0
    },
    "executionInfo": {
     "elapsed": 9910,
     "status": "ok",
     "timestamp": 1646637696709,
     "user": {
      "displayName": "Flixnet Lite",
      "photoUrl": "https://lh3.googleusercontent.com/a/default-user=s64",
      "userId": "13549897492241366769"
     },
     "user_tz": -480
    },
    "id": "94ac360f",
    "outputId": "116218f4-c249-41be-c400-21f7647cb7a3"
   },
   "outputs": [
    {
     "data": {
      "text/plain": [
       "'2.1.0'"
      ]
     },
     "execution_count": 1,
     "metadata": {},
     "output_type": "execute_result"
    }
   ],
   "source": [
    "import tensorflow as tf, matplotlib.pyplot as plt, os, numpy as np, matplotlib.pyplot as plt, matplotlib.patches as patches\n",
    "from tensorflow.keras.callbacks import ModelCheckpoint, TensorBoard\n",
    "from framework.utils import bbox_utils, data_utils, drawing_utils, eval_utils, io_utils, train_utils\n",
    "from framework.models import faster_rcnn\n",
    "\n",
    "tf.__version__  # if not 2.0.0 please uncomment pip uninstall and install, make sure your python version is 3.7.x"
   ]
  },
  {
   "cell_type": "code",
   "execution_count": 2,
   "id": "z24O3mwql6fJ",
   "metadata": {
    "colab": {
     "base_uri": "https://localhost:8080/",
     "height": 0
    },
    "executionInfo": {
     "elapsed": 7,
     "status": "ok",
     "timestamp": 1646637696709,
     "user": {
      "displayName": "Flixnet Lite",
      "photoUrl": "https://lh3.googleusercontent.com/a/default-user=s64",
      "userId": "13549897492241366769"
     },
     "user_tz": -480
    },
    "id": "z24O3mwql6fJ",
    "outputId": "0f5a16ad-35c7-4cae-f6af-8212aad0c477"
   },
   "outputs": [
    {
     "data": {
      "text/plain": [
       "'2.10.0'"
      ]
     },
     "execution_count": 2,
     "metadata": {},
     "output_type": "execute_result"
    }
   ],
   "source": [
    "import h5py\n",
    "h5py.__version__  # if not 2.10.0 please uncomment pip uninstall and install, make sure your python version is 3.7.x"
   ]
  },
  {
   "cell_type": "markdown",
   "id": "741bc394",
   "metadata": {
    "id": "741bc394"
   },
   "source": [
    "# Read Dataset from TFRecord"
   ]
  },
  {
   "cell_type": "code",
   "execution_count": 3,
   "id": "574c7d6e",
   "metadata": {
    "executionInfo": {
     "elapsed": 5,
     "status": "ok",
     "timestamp": 1646637696710,
     "user": {
      "displayName": "Flixnet Lite",
      "photoUrl": "https://lh3.googleusercontent.com/a/default-user=s64",
      "userId": "13549897492241366769"
     },
     "user_tz": -480
    },
    "id": "574c7d6e"
   },
   "outputs": [],
   "source": [
    "AUTOTUNE = tf.data.experimental.AUTOTUNE\n",
    "IMAGE_SIZE = 512  # make sure had same size with the picture"
   ]
  },
  {
   "cell_type": "code",
   "execution_count": 4,
   "id": "a76049aa",
   "metadata": {
    "executionInfo": {
     "elapsed": 5,
     "status": "ok",
     "timestamp": 1646637696710,
     "user": {
      "displayName": "Flixnet Lite",
      "photoUrl": "https://lh3.googleusercontent.com/a/default-user=s64",
      "userId": "13549897492241366769"
     },
     "user_tz": -480
    },
    "id": "a76049aa"
   },
   "outputs": [],
   "source": [
    "def read_tfrecord(example):\n",
    "    tfrecord_format = {\n",
    "        \"filename\": tf.io.FixedLenFeature([], tf.string),\n",
    "        \"pic\": tf.io.FixedLenFeature([], tf.string),\n",
    "        \"bbox\": tf.io.FixedLenFeature([], tf.string),\n",
    "        \"label\": tf.io.FixedLenFeature([], tf.string)\n",
    "    }\n",
    "    example = tf.io.parse_single_example(example, tfrecord_format)\n",
    "    filename = tf.cast(example[\"filename\"], tf.string)\n",
    "    image = tf.io.parse_tensor(example[\"pic\"], out_type = tf.uint8)\n",
    "    bbox = tf.io.parse_tensor(example[\"bbox\"], out_type = tf.float32)\n",
    "    label = tf.io.parse_tensor(example[\"label\"], out_type = tf.int32)\n",
    "    return {\"filename\": filename, \"image\": image, \"bbox\": bbox, \"label\": label}"
   ]
  },
  {
   "cell_type": "code",
   "execution_count": 5,
   "id": "b7dc4e7f",
   "metadata": {
    "executionInfo": {
     "elapsed": 6,
     "status": "ok",
     "timestamp": 1646637696711,
     "user": {
      "displayName": "Flixnet Lite",
      "photoUrl": "https://lh3.googleusercontent.com/a/default-user=s64",
      "userId": "13549897492241366769"
     },
     "user_tz": -480
    },
    "id": "b7dc4e7f"
   },
   "outputs": [],
   "source": [
    "def load_dataset(filenames):\n",
    "    ignore_order = tf.data.Options()\n",
    "    ignore_order.experimental_deterministic = False  # disable order, increase speed\n",
    "    dataset = tf.data.TFRecordDataset(filenames)  # automatically interleaves reads from multiple files\n",
    "    dataset = dataset.with_options(ignore_order)  # uses data as soon as it streams in, rather than in its original order\n",
    "    dataset = dataset.map(read_tfrecord)\n",
    "    return dataset"
   ]
  },
  {
   "cell_type": "code",
   "execution_count": 6,
   "id": "55a6b241",
   "metadata": {
    "executionInfo": {
     "elapsed": 5,
     "status": "ok",
     "timestamp": 1646637696711,
     "user": {
      "displayName": "Flixnet Lite",
      "photoUrl": "https://lh3.googleusercontent.com/a/default-user=s64",
      "userId": "13549897492241366769"
     },
     "user_tz": -480
    },
    "id": "55a6b241"
   },
   "outputs": [],
   "source": [
    "def get_dataset(filenames):\n",
    "    dataset = load_dataset(filenames)\n",
    "    dataset = dataset.shuffle(2048)\n",
    "    dataset = dataset.prefetch(buffer_size=AUTOTUNE)\n",
    "    return dataset"
   ]
  },
  {
   "cell_type": "code",
   "execution_count": 7,
   "id": "0fc132b0",
   "metadata": {
    "executionInfo": {
     "elapsed": 5,
     "status": "ok",
     "timestamp": 1646637696711,
     "user": {
      "displayName": "Flixnet Lite",
      "photoUrl": "https://lh3.googleusercontent.com/a/default-user=s64",
      "userId": "13549897492241366769"
     },
     "user_tz": -480
    },
    "id": "0fc132b0"
   },
   "outputs": [],
   "source": [
    "def read_label_map(label_map_path):\n",
    "    item_id = None\n",
    "    item_name = None\n",
    "    items = {}\n",
    "\n",
    "    with open(label_map_path, \"r\") as file:\n",
    "        for line in file:\n",
    "            line.replace(\" \", \"\")\n",
    "            if line == \"item{\":\n",
    "                pass\n",
    "            elif line == \"}\":\n",
    "                pass\n",
    "            elif \"id\" in line:\n",
    "                item_id = int(line.split(\":\", 1)[1].strip())\n",
    "            elif \"name\" in line:\n",
    "                item_name = line.split(\":\", 1)[1].replace(\"'\", \"\").replace(\"\\\"\", \"\").strip()\n",
    "\n",
    "            if item_id is not None and item_name is not None:\n",
    "                items[item_name] = item_id\n",
    "                item_id = None\n",
    "                item_name = None\n",
    "\n",
    "    return items"
   ]
  },
  {
   "cell_type": "code",
   "execution_count": 8,
   "id": "b8135524",
   "metadata": {
    "executionInfo": {
     "elapsed": 638,
     "status": "ok",
     "timestamp": 1646637697343,
     "user": {
      "displayName": "Flixnet Lite",
      "photoUrl": "https://lh3.googleusercontent.com/a/default-user=s64",
      "userId": "13549897492241366769"
     },
     "user_tz": -480
    },
    "id": "b8135524"
   },
   "outputs": [],
   "source": [
    "label_map_path = \"./data_preparation/label_map.pbtxt\"\n",
    "label_map_dict = read_label_map(label_map_path)"
   ]
  },
  {
   "cell_type": "code",
   "execution_count": 9,
   "id": "17ca36eb",
   "metadata": {
    "executionInfo": {
     "elapsed": 5,
     "status": "ok",
     "timestamp": 1646637697345,
     "user": {
      "displayName": "Flixnet Lite",
      "photoUrl": "https://lh3.googleusercontent.com/a/default-user=s64",
      "userId": "13549897492241366769"
     },
     "user_tz": -480
    },
    "id": "17ca36eb"
   },
   "outputs": [],
   "source": [
    "def get_label_text(result, doc = label_map_dict):\n",
    "    for key, value in doc.items():\n",
    "        if(value == result + 1):\n",
    "            return key\n",
    "    return \"Unpredictable\""
   ]
  },
  {
   "cell_type": "code",
   "execution_count": 10,
   "id": "40c679cd",
   "metadata": {
    "colab": {
     "base_uri": "https://localhost:8080/"
    },
    "executionInfo": {
     "elapsed": 2454,
     "status": "ok",
     "timestamp": 1646637699795,
     "user": {
      "displayName": "Flixnet Lite",
      "photoUrl": "https://lh3.googleusercontent.com/a/default-user=s64",
      "userId": "13549897492241366769"
     },
     "user_tz": -480
    },
    "id": "40c679cd",
    "outputId": "27ecdccf-0194-4927-facf-0dea5e979329",
    "scrolled": true
   },
   "outputs": [
    {
     "data": {
      "text/plain": [
       "<PrefetchDataset shapes: {filename: (), image: <unknown>, bbox: <unknown>, label: <unknown>}, types: {filename: tf.string, image: tf.uint8, bbox: tf.float32, label: tf.int32}>"
      ]
     },
     "execution_count": 10,
     "metadata": {},
     "output_type": "execute_result"
    }
   ],
   "source": [
    "train_data = get_dataset(\"./data_preparation/train.tfrecord\")\n",
    "\n",
    "test_data = get_dataset(\"./data_preparation/test.tfrecord\")\n",
    "\n",
    "train_data"
   ]
  },
  {
   "cell_type": "code",
   "execution_count": 11,
   "id": "18140a61",
   "metadata": {
    "executionInfo": {
     "elapsed": 4,
     "status": "ok",
     "timestamp": 1646637699796,
     "user": {
      "displayName": "Flixnet Lite",
      "photoUrl": "https://lh3.googleusercontent.com/a/default-user=s64",
      "userId": "13549897492241366769"
     },
     "user_tz": -480
    },
    "id": "18140a61"
   },
   "outputs": [],
   "source": [
    "def show_data(data, n):\n",
    "    print(data)\n",
    "    for dat in data.take(n):\n",
    "        plt.imshow(dat[\"image\"])\n",
    "        for coord in dat[\"bbox\"]: # bbox is ymin, xmin, ymax, xmax\n",
    "            coord *= IMAGE_SIZE\n",
    "            rect = patches.Rectangle(\n",
    "                (coord[1].numpy(), coord[0].numpy()),  # x1, y1\n",
    "                coord[3].numpy() - coord[1].numpy(),  # width\n",
    "                coord[2].numpy() - coord[0].numpy(),  # height\n",
    "                linewidth = 2, edgecolor = \"r\", fill = False)\n",
    "            plt.gca().add_patch(rect)\n",
    "        plt.show()"
   ]
  },
  {
   "cell_type": "code",
   "execution_count": 12,
   "id": "c4c6670f",
   "metadata": {
    "executionInfo": {
     "elapsed": 4,
     "status": "ok",
     "timestamp": 1646637699796,
     "user": {
      "displayName": "Flixnet Lite",
      "photoUrl": "https://lh3.googleusercontent.com/a/default-user=s64",
      "userId": "13549897492241366769"
     },
     "user_tz": -480
    },
    "id": "c4c6670f"
   },
   "outputs": [],
   "source": [
    "# show_data(train_data, 20)"
   ]
  },
  {
   "cell_type": "markdown",
   "id": "40d963e4",
   "metadata": {
    "id": "40d963e4"
   },
   "source": [
    "# Train Model"
   ]
  },
  {
   "cell_type": "code",
   "execution_count": 13,
   "id": "f6916477",
   "metadata": {
    "executionInfo": {
     "elapsed": 26711,
     "status": "ok",
     "timestamp": 1646637726504,
     "user": {
      "displayName": "Flixnet Lite",
      "photoUrl": "https://lh3.googleusercontent.com/a/default-user=s64",
      "userId": "13549897492241366769"
     },
     "user_tz": -480
    },
    "id": "f6916477"
   },
   "outputs": [],
   "source": [
    "batch_size = 2\n",
    "epochs = 10\n",
    "\n",
    "backbone = \"vgg16\"\n",
    "# backbone = \"mobilenet_v2\"\n",
    "# backbone = \"resnet50\"\n",
    "\n",
    "hyper_params = train_utils.get_hyper_params(backbone)\n",
    "train_total_item = len(list(train_data))"
   ]
  },
  {
   "cell_type": "code",
   "execution_count": 14,
   "id": "29f3627f",
   "metadata": {
    "executionInfo": {
     "elapsed": 631,
     "status": "ok",
     "timestamp": 1646637727132,
     "user": {
      "displayName": "Flixnet Lite",
      "photoUrl": "https://lh3.googleusercontent.com/a/default-user=s64",
      "userId": "13549897492241366769"
     },
     "user_tz": -480
    },
    "id": "29f3627f"
   },
   "outputs": [],
   "source": [
    "labels = list(label_map_dict.keys())\n",
    "# We add 1 class for background\n",
    "hyper_params[\"total_labels\"] = len(labels) + 1\n",
    "train_data = train_data.map(lambda data : data_utils.preprocessing_before_frcnn(data, IMAGE_SIZE, IMAGE_SIZE))"
   ]
  },
  {
   "cell_type": "code",
   "execution_count": 15,
   "id": "75ad2ae2",
   "metadata": {
    "executionInfo": {
     "elapsed": 11,
     "status": "ok",
     "timestamp": 1646637727133,
     "user": {
      "displayName": "Flixnet Lite",
      "photoUrl": "https://lh3.googleusercontent.com/a/default-user=s64",
      "userId": "13549897492241366769"
     },
     "user_tz": -480
    },
    "id": "75ad2ae2"
   },
   "outputs": [],
   "source": [
    "data_shapes = data_utils.get_data_shapes()\n",
    "padding_values = data_utils.get_padding_values()\n",
    "train_data = train_data.padded_batch(batch_size, padded_shapes=data_shapes, padding_values=padding_values)"
   ]
  },
  {
   "cell_type": "code",
   "execution_count": 16,
   "id": "d25c0b2e",
   "metadata": {
    "executionInfo": {
     "elapsed": 536,
     "status": "ok",
     "timestamp": 1646637727660,
     "user": {
      "displayName": "Flixnet Lite",
      "photoUrl": "https://lh3.googleusercontent.com/a/default-user=s64",
      "userId": "13549897492241366769"
     },
     "user_tz": -480
    },
    "id": "d25c0b2e"
   },
   "outputs": [],
   "source": [
    "anchors = bbox_utils.generate_anchors(hyper_params)\n",
    "frcnn_train_feed = train_utils.faster_rcnn_generator(train_data, anchors, hyper_params)"
   ]
  },
  {
   "cell_type": "code",
   "execution_count": 17,
   "id": "7487d397",
   "metadata": {
    "colab": {
     "base_uri": "https://localhost:8080/"
    },
    "executionInfo": {
     "elapsed": 12046,
     "status": "ok",
     "timestamp": 1646637739702,
     "user": {
      "displayName": "Flixnet Lite",
      "photoUrl": "https://lh3.googleusercontent.com/a/default-user=s64",
      "userId": "13549897492241366769"
     },
     "user_tz": -480
    },
    "id": "7487d397",
    "outputId": "c5d438e7-76ed-4c3a-f844-f48bd84b1499"
   },
   "outputs": [
    {
     "name": "stdout",
     "output_type": "stream",
     "text": [
      "Model: \"vgg16\"\n",
      "_________________________________________________________________\n",
      "Layer (type)                 Output Shape              Param #   \n",
      "=================================================================\n",
      "input_1 (InputLayer)         [(None, 512, 512, 3)]     0         \n",
      "_________________________________________________________________\n",
      "block1_conv1 (Conv2D)        (None, 512, 512, 64)      1792      \n",
      "_________________________________________________________________\n",
      "block1_conv2 (Conv2D)        (None, 512, 512, 64)      36928     \n",
      "_________________________________________________________________\n",
      "block1_pool (MaxPooling2D)   (None, 256, 256, 64)      0         \n",
      "_________________________________________________________________\n",
      "block2_conv1 (Conv2D)        (None, 256, 256, 128)     73856     \n",
      "_________________________________________________________________\n",
      "block2_conv2 (Conv2D)        (None, 256, 256, 128)     147584    \n",
      "_________________________________________________________________\n",
      "block2_pool (MaxPooling2D)   (None, 128, 128, 128)     0         \n",
      "_________________________________________________________________\n",
      "block3_conv1 (Conv2D)        (None, 128, 128, 256)     295168    \n",
      "_________________________________________________________________\n",
      "block3_conv2 (Conv2D)        (None, 128, 128, 256)     590080    \n",
      "_________________________________________________________________\n",
      "block3_conv3 (Conv2D)        (None, 128, 128, 256)     590080    \n",
      "_________________________________________________________________\n",
      "block3_pool (MaxPooling2D)   (None, 64, 64, 256)       0         \n",
      "_________________________________________________________________\n",
      "block4_conv1 (Conv2D)        (None, 64, 64, 512)       1180160   \n",
      "_________________________________________________________________\n",
      "block4_conv2 (Conv2D)        (None, 64, 64, 512)       2359808   \n",
      "_________________________________________________________________\n",
      "block4_conv3 (Conv2D)        (None, 64, 64, 512)       2359808   \n",
      "_________________________________________________________________\n",
      "block4_pool (MaxPooling2D)   (None, 32, 32, 512)       0         \n",
      "_________________________________________________________________\n",
      "block5_conv1 (Conv2D)        (None, 32, 32, 512)       2359808   \n",
      "_________________________________________________________________\n",
      "block5_conv2 (Conv2D)        (None, 32, 32, 512)       2359808   \n",
      "_________________________________________________________________\n",
      "block5_conv3 (Conv2D)        (None, 32, 32, 512)       2359808   \n",
      "_________________________________________________________________\n",
      "block5_pool (MaxPooling2D)   (None, 16, 16, 512)       0         \n",
      "=================================================================\n",
      "Total params: 14,714,688\n",
      "Trainable params: 14,714,688\n",
      "Non-trainable params: 0\n",
      "_________________________________________________________________\n",
      "None\n"
     ]
    }
   ],
   "source": [
    "if (backbone == \"vgg16\"):\n",
    "    from framework.models.rpn_vgg16 import get_rpn_model\n",
    "elif (backbone == \"mobilenet_v2\"):\n",
    "    from framework.models.rpn_mobilenet_v2 import get_rpn_model\n",
    "elif (backbone == \"resnet50\"):\n",
    "    from framework.models.rpn_resnet50 import get_rpn_model\n",
    "\n",
    "rpn_model, feature_extractor = get_rpn_model(hyper_params)\n",
    "frcnn_model = faster_rcnn.get_model_frcnn(feature_extractor, rpn_model, anchors, hyper_params)\n",
    "frcnn_model.compile(optimizer=tf.optimizers.SGD(momentum=8e-1),\n",
    "                    loss=[None] * len(frcnn_model.output))\n",
    "faster_rcnn.init_model_frcnn(frcnn_model, hyper_params)"
   ]
  },
  {
   "cell_type": "code",
   "execution_count": 18,
   "id": "tLGd37WDOGX1",
   "metadata": {
    "executionInfo": {
     "elapsed": 24500,
     "status": "ok",
     "timestamp": 1646637764198,
     "user": {
      "displayName": "Flixnet Lite",
      "photoUrl": "https://lh3.googleusercontent.com/a/default-user=s64",
      "userId": "13549897492241366769"
     },
     "user_tz": -480
    },
    "id": "tLGd37WDOGX1"
   },
   "outputs": [],
   "source": [
    "# Load weights\n",
    "frcnn_model_path = io_utils.get_model_path(\"faster_rcnn\", backbone)\n",
    "\n",
    "load_weights = False\n",
    "if load_weights:\n",
    "    frcnn_model.load_weights(frcnn_model_path)\n",
    "log_path = io_utils.get_log_path(\"faster_rcnn\", backbone)\n",
    "\n",
    "checkpoint_callback = ModelCheckpoint(frcnn_model_path, monitor=\"loss\", save_best_only=True, save_weights_only=True)\n",
    "# tensorboard_callback = TensorBoard(log_dir=log_path)\n",
    "schedule_lr_callback = tf.keras.callbacks.LearningRateScheduler(lambda ep: 1e-5 * 10 ** (ep / 30))"
   ]
  },
  {
   "cell_type": "code",
   "execution_count": 19,
   "id": "5qqEJWqQP8O2",
   "metadata": {
    "colab": {
     "base_uri": "https://localhost:8080/"
    },
    "id": "5qqEJWqQP8O2",
    "outputId": "26b0067c-25d9-4268-f7cf-bbd9052cd4d7"
   },
   "outputs": [
    {
     "name": "stdout",
     "output_type": "stream",
     "text": [
      "Train for 890 steps\n",
      "Epoch 1/10\n",
      "  1/890 [..............................] - ETA: 3:00:30WARNING:tensorflow:Can save best model only with loss available, skipping.\n"
     ]
    },
    {
     "ename": "ResourceExhaustedError",
     "evalue": "2 root error(s) found.\n  (0) Resource exhausted:  OOM when allocating tensor with shape[2,1024,32,32] and type float on /job:localhost/replica:0/task:0/device:GPU:0 by allocator GPU_0_bfc\n\t [[node model_1/rpn_conv/Conv2D (defined at C:\\Users\\Rudy Rachman\\AppData\\Local\\Temp\\ipykernel_15508\\869298414.py:6) ]]\nHint: If you want to see a list of allocated tensors when OOM happens, add report_tensor_allocations_upon_oom to RunOptions for current allocation info.\n\n\t [[model_1/roi_bboxes/Reshape_2/_34]]\nHint: If you want to see a list of allocated tensors when OOM happens, add report_tensor_allocations_upon_oom to RunOptions for current allocation info.\n\n  (1) Resource exhausted:  OOM when allocating tensor with shape[2,1024,32,32] and type float on /job:localhost/replica:0/task:0/device:GPU:0 by allocator GPU_0_bfc\n\t [[node model_1/rpn_conv/Conv2D (defined at C:\\Users\\Rudy Rachman\\AppData\\Local\\Temp\\ipykernel_15508\\869298414.py:6) ]]\nHint: If you want to see a list of allocated tensors when OOM happens, add report_tensor_allocations_upon_oom to RunOptions for current allocation info.\n\n0 successful operations.\n0 derived errors ignored. [Op:__inference_distributed_function_13337]\n\nFunction call stack:\ndistributed_function -> distributed_function\n",
     "output_type": "error",
     "traceback": [
      "\u001b[1;31m---------------------------------------------------------------------------\u001b[0m",
      "\u001b[1;31mResourceExhaustedError\u001b[0m                    Traceback (most recent call last)",
      "\u001b[1;32m~\\AppData\\Local\\Temp\\ipykernel_15508\\869298414.py\u001b[0m in \u001b[0;36m<module>\u001b[1;34m\u001b[0m\n\u001b[0;32m      4\u001b[0m                 \u001b[0mverbose\u001b[0m \u001b[1;33m=\u001b[0m \u001b[1;36m1\u001b[0m\u001b[1;33m,\u001b[0m\u001b[1;33m\u001b[0m\u001b[1;33m\u001b[0m\u001b[0m\n\u001b[0;32m      5\u001b[0m                 \u001b[0mepochs\u001b[0m\u001b[1;33m=\u001b[0m\u001b[0mepochs\u001b[0m\u001b[1;33m,\u001b[0m\u001b[1;33m\u001b[0m\u001b[1;33m\u001b[0m\u001b[0m\n\u001b[1;32m----> 6\u001b[1;33m                 callbacks=[checkpoint_callback, schedule_lr_callback])\n\u001b[0m",
      "\u001b[1;32mc:\\users\\rudy rachman\\appdata\\local\\programs\\python\\python37\\lib\\site-packages\\tensorflow_core\\python\\keras\\engine\\training.py\u001b[0m in \u001b[0;36mfit\u001b[1;34m(self, x, y, batch_size, epochs, verbose, callbacks, validation_split, validation_data, shuffle, class_weight, sample_weight, initial_epoch, steps_per_epoch, validation_steps, validation_freq, max_queue_size, workers, use_multiprocessing, **kwargs)\u001b[0m\n\u001b[0;32m    817\u001b[0m         \u001b[0mmax_queue_size\u001b[0m\u001b[1;33m=\u001b[0m\u001b[0mmax_queue_size\u001b[0m\u001b[1;33m,\u001b[0m\u001b[1;33m\u001b[0m\u001b[1;33m\u001b[0m\u001b[0m\n\u001b[0;32m    818\u001b[0m         \u001b[0mworkers\u001b[0m\u001b[1;33m=\u001b[0m\u001b[0mworkers\u001b[0m\u001b[1;33m,\u001b[0m\u001b[1;33m\u001b[0m\u001b[1;33m\u001b[0m\u001b[0m\n\u001b[1;32m--> 819\u001b[1;33m         use_multiprocessing=use_multiprocessing)\n\u001b[0m\u001b[0;32m    820\u001b[0m \u001b[1;33m\u001b[0m\u001b[0m\n\u001b[0;32m    821\u001b[0m   def evaluate(self,\n",
      "\u001b[1;32mc:\\users\\rudy rachman\\appdata\\local\\programs\\python\\python37\\lib\\site-packages\\tensorflow_core\\python\\keras\\engine\\training_v2.py\u001b[0m in \u001b[0;36mfit\u001b[1;34m(self, model, x, y, batch_size, epochs, verbose, callbacks, validation_split, validation_data, shuffle, class_weight, sample_weight, initial_epoch, steps_per_epoch, validation_steps, validation_freq, max_queue_size, workers, use_multiprocessing, **kwargs)\u001b[0m\n\u001b[0;32m    340\u001b[0m                 \u001b[0mmode\u001b[0m\u001b[1;33m=\u001b[0m\u001b[0mModeKeys\u001b[0m\u001b[1;33m.\u001b[0m\u001b[0mTRAIN\u001b[0m\u001b[1;33m,\u001b[0m\u001b[1;33m\u001b[0m\u001b[1;33m\u001b[0m\u001b[0m\n\u001b[0;32m    341\u001b[0m                 \u001b[0mtraining_context\u001b[0m\u001b[1;33m=\u001b[0m\u001b[0mtraining_context\u001b[0m\u001b[1;33m,\u001b[0m\u001b[1;33m\u001b[0m\u001b[1;33m\u001b[0m\u001b[0m\n\u001b[1;32m--> 342\u001b[1;33m                 total_epochs=epochs)\n\u001b[0m\u001b[0;32m    343\u001b[0m             \u001b[0mcbks\u001b[0m\u001b[1;33m.\u001b[0m\u001b[0mmake_logs\u001b[0m\u001b[1;33m(\u001b[0m\u001b[0mmodel\u001b[0m\u001b[1;33m,\u001b[0m \u001b[0mepoch_logs\u001b[0m\u001b[1;33m,\u001b[0m \u001b[0mtraining_result\u001b[0m\u001b[1;33m,\u001b[0m \u001b[0mModeKeys\u001b[0m\u001b[1;33m.\u001b[0m\u001b[0mTRAIN\u001b[0m\u001b[1;33m)\u001b[0m\u001b[1;33m\u001b[0m\u001b[1;33m\u001b[0m\u001b[0m\n\u001b[0;32m    344\u001b[0m \u001b[1;33m\u001b[0m\u001b[0m\n",
      "\u001b[1;32mc:\\users\\rudy rachman\\appdata\\local\\programs\\python\\python37\\lib\\site-packages\\tensorflow_core\\python\\keras\\engine\\training_v2.py\u001b[0m in \u001b[0;36mrun_one_epoch\u001b[1;34m(model, iterator, execution_function, dataset_size, batch_size, strategy, steps_per_epoch, num_samples, mode, training_context, total_epochs)\u001b[0m\n\u001b[0;32m    126\u001b[0m         step=step, mode=mode, size=current_batch_size) as batch_logs:\n\u001b[0;32m    127\u001b[0m       \u001b[1;32mtry\u001b[0m\u001b[1;33m:\u001b[0m\u001b[1;33m\u001b[0m\u001b[1;33m\u001b[0m\u001b[0m\n\u001b[1;32m--> 128\u001b[1;33m         \u001b[0mbatch_outs\u001b[0m \u001b[1;33m=\u001b[0m \u001b[0mexecution_function\u001b[0m\u001b[1;33m(\u001b[0m\u001b[0miterator\u001b[0m\u001b[1;33m)\u001b[0m\u001b[1;33m\u001b[0m\u001b[1;33m\u001b[0m\u001b[0m\n\u001b[0m\u001b[0;32m    129\u001b[0m       \u001b[1;32mexcept\u001b[0m \u001b[1;33m(\u001b[0m\u001b[0mStopIteration\u001b[0m\u001b[1;33m,\u001b[0m \u001b[0merrors\u001b[0m\u001b[1;33m.\u001b[0m\u001b[0mOutOfRangeError\u001b[0m\u001b[1;33m)\u001b[0m\u001b[1;33m:\u001b[0m\u001b[1;33m\u001b[0m\u001b[1;33m\u001b[0m\u001b[0m\n\u001b[0;32m    130\u001b[0m         \u001b[1;31m# TODO(kaftan): File bug about tf function and errors.OutOfRangeError?\u001b[0m\u001b[1;33m\u001b[0m\u001b[1;33m\u001b[0m\u001b[1;33m\u001b[0m\u001b[0m\n",
      "\u001b[1;32mc:\\users\\rudy rachman\\appdata\\local\\programs\\python\\python37\\lib\\site-packages\\tensorflow_core\\python\\keras\\engine\\training_v2_utils.py\u001b[0m in \u001b[0;36mexecution_function\u001b[1;34m(input_fn)\u001b[0m\n\u001b[0;32m     96\u001b[0m     \u001b[1;31m# `numpy` translates Tensors to values in Eager mode.\u001b[0m\u001b[1;33m\u001b[0m\u001b[1;33m\u001b[0m\u001b[1;33m\u001b[0m\u001b[0m\n\u001b[0;32m     97\u001b[0m     return nest.map_structure(_non_none_constant_value,\n\u001b[1;32m---> 98\u001b[1;33m                               distributed_function(input_fn))\n\u001b[0m\u001b[0;32m     99\u001b[0m \u001b[1;33m\u001b[0m\u001b[0m\n\u001b[0;32m    100\u001b[0m   \u001b[1;32mreturn\u001b[0m \u001b[0mexecution_function\u001b[0m\u001b[1;33m\u001b[0m\u001b[1;33m\u001b[0m\u001b[0m\n",
      "\u001b[1;32mc:\\users\\rudy rachman\\appdata\\local\\programs\\python\\python37\\lib\\site-packages\\tensorflow_core\\python\\eager\\def_function.py\u001b[0m in \u001b[0;36m__call__\u001b[1;34m(self, *args, **kwds)\u001b[0m\n\u001b[0;32m    566\u001b[0m         \u001b[0mxla_context\u001b[0m\u001b[1;33m.\u001b[0m\u001b[0mExit\u001b[0m\u001b[1;33m(\u001b[0m\u001b[1;33m)\u001b[0m\u001b[1;33m\u001b[0m\u001b[1;33m\u001b[0m\u001b[0m\n\u001b[0;32m    567\u001b[0m     \u001b[1;32melse\u001b[0m\u001b[1;33m:\u001b[0m\u001b[1;33m\u001b[0m\u001b[1;33m\u001b[0m\u001b[0m\n\u001b[1;32m--> 568\u001b[1;33m       \u001b[0mresult\u001b[0m \u001b[1;33m=\u001b[0m \u001b[0mself\u001b[0m\u001b[1;33m.\u001b[0m\u001b[0m_call\u001b[0m\u001b[1;33m(\u001b[0m\u001b[1;33m*\u001b[0m\u001b[0margs\u001b[0m\u001b[1;33m,\u001b[0m \u001b[1;33m**\u001b[0m\u001b[0mkwds\u001b[0m\u001b[1;33m)\u001b[0m\u001b[1;33m\u001b[0m\u001b[1;33m\u001b[0m\u001b[0m\n\u001b[0m\u001b[0;32m    569\u001b[0m \u001b[1;33m\u001b[0m\u001b[0m\n\u001b[0;32m    570\u001b[0m     \u001b[1;32mif\u001b[0m \u001b[0mtracing_count\u001b[0m \u001b[1;33m==\u001b[0m \u001b[0mself\u001b[0m\u001b[1;33m.\u001b[0m\u001b[0m_get_tracing_count\u001b[0m\u001b[1;33m(\u001b[0m\u001b[1;33m)\u001b[0m\u001b[1;33m:\u001b[0m\u001b[1;33m\u001b[0m\u001b[1;33m\u001b[0m\u001b[0m\n",
      "\u001b[1;32mc:\\users\\rudy rachman\\appdata\\local\\programs\\python\\python37\\lib\\site-packages\\tensorflow_core\\python\\eager\\def_function.py\u001b[0m in \u001b[0;36m_call\u001b[1;34m(self, *args, **kwds)\u001b[0m\n\u001b[0;32m    630\u001b[0m         \u001b[1;31m# Lifting succeeded, so variables are initialized and we can run the\u001b[0m\u001b[1;33m\u001b[0m\u001b[1;33m\u001b[0m\u001b[1;33m\u001b[0m\u001b[0m\n\u001b[0;32m    631\u001b[0m         \u001b[1;31m# stateless function.\u001b[0m\u001b[1;33m\u001b[0m\u001b[1;33m\u001b[0m\u001b[1;33m\u001b[0m\u001b[0m\n\u001b[1;32m--> 632\u001b[1;33m         \u001b[1;32mreturn\u001b[0m \u001b[0mself\u001b[0m\u001b[1;33m.\u001b[0m\u001b[0m_stateless_fn\u001b[0m\u001b[1;33m(\u001b[0m\u001b[1;33m*\u001b[0m\u001b[0margs\u001b[0m\u001b[1;33m,\u001b[0m \u001b[1;33m**\u001b[0m\u001b[0mkwds\u001b[0m\u001b[1;33m)\u001b[0m\u001b[1;33m\u001b[0m\u001b[1;33m\u001b[0m\u001b[0m\n\u001b[0m\u001b[0;32m    633\u001b[0m     \u001b[1;32melse\u001b[0m\u001b[1;33m:\u001b[0m\u001b[1;33m\u001b[0m\u001b[1;33m\u001b[0m\u001b[0m\n\u001b[0;32m    634\u001b[0m       \u001b[0mcanon_args\u001b[0m\u001b[1;33m,\u001b[0m \u001b[0mcanon_kwds\u001b[0m \u001b[1;33m=\u001b[0m\u001b[0;31m \u001b[0m\u001b[0;31m\\\u001b[0m\u001b[1;33m\u001b[0m\u001b[1;33m\u001b[0m\u001b[0m\n",
      "\u001b[1;32mc:\\users\\rudy rachman\\appdata\\local\\programs\\python\\python37\\lib\\site-packages\\tensorflow_core\\python\\eager\\function.py\u001b[0m in \u001b[0;36m__call__\u001b[1;34m(self, *args, **kwargs)\u001b[0m\n\u001b[0;32m   2361\u001b[0m     \u001b[1;32mwith\u001b[0m \u001b[0mself\u001b[0m\u001b[1;33m.\u001b[0m\u001b[0m_lock\u001b[0m\u001b[1;33m:\u001b[0m\u001b[1;33m\u001b[0m\u001b[1;33m\u001b[0m\u001b[0m\n\u001b[0;32m   2362\u001b[0m       \u001b[0mgraph_function\u001b[0m\u001b[1;33m,\u001b[0m \u001b[0margs\u001b[0m\u001b[1;33m,\u001b[0m \u001b[0mkwargs\u001b[0m \u001b[1;33m=\u001b[0m \u001b[0mself\u001b[0m\u001b[1;33m.\u001b[0m\u001b[0m_maybe_define_function\u001b[0m\u001b[1;33m(\u001b[0m\u001b[0margs\u001b[0m\u001b[1;33m,\u001b[0m \u001b[0mkwargs\u001b[0m\u001b[1;33m)\u001b[0m\u001b[1;33m\u001b[0m\u001b[1;33m\u001b[0m\u001b[0m\n\u001b[1;32m-> 2363\u001b[1;33m     \u001b[1;32mreturn\u001b[0m \u001b[0mgraph_function\u001b[0m\u001b[1;33m.\u001b[0m\u001b[0m_filtered_call\u001b[0m\u001b[1;33m(\u001b[0m\u001b[0margs\u001b[0m\u001b[1;33m,\u001b[0m \u001b[0mkwargs\u001b[0m\u001b[1;33m)\u001b[0m  \u001b[1;31m# pylint: disable=protected-access\u001b[0m\u001b[1;33m\u001b[0m\u001b[1;33m\u001b[0m\u001b[0m\n\u001b[0m\u001b[0;32m   2364\u001b[0m \u001b[1;33m\u001b[0m\u001b[0m\n\u001b[0;32m   2365\u001b[0m   \u001b[1;33m@\u001b[0m\u001b[0mproperty\u001b[0m\u001b[1;33m\u001b[0m\u001b[1;33m\u001b[0m\u001b[0m\n",
      "\u001b[1;32mc:\\users\\rudy rachman\\appdata\\local\\programs\\python\\python37\\lib\\site-packages\\tensorflow_core\\python\\eager\\function.py\u001b[0m in \u001b[0;36m_filtered_call\u001b[1;34m(self, args, kwargs)\u001b[0m\n\u001b[0;32m   1609\u001b[0m          if isinstance(t, (ops.Tensor,\n\u001b[0;32m   1610\u001b[0m                            resource_variable_ops.BaseResourceVariable))),\n\u001b[1;32m-> 1611\u001b[1;33m         self.captured_inputs)\n\u001b[0m\u001b[0;32m   1612\u001b[0m \u001b[1;33m\u001b[0m\u001b[0m\n\u001b[0;32m   1613\u001b[0m   \u001b[1;32mdef\u001b[0m \u001b[0m_call_flat\u001b[0m\u001b[1;33m(\u001b[0m\u001b[0mself\u001b[0m\u001b[1;33m,\u001b[0m \u001b[0margs\u001b[0m\u001b[1;33m,\u001b[0m \u001b[0mcaptured_inputs\u001b[0m\u001b[1;33m,\u001b[0m \u001b[0mcancellation_manager\u001b[0m\u001b[1;33m=\u001b[0m\u001b[1;32mNone\u001b[0m\u001b[1;33m)\u001b[0m\u001b[1;33m:\u001b[0m\u001b[1;33m\u001b[0m\u001b[1;33m\u001b[0m\u001b[0m\n",
      "\u001b[1;32mc:\\users\\rudy rachman\\appdata\\local\\programs\\python\\python37\\lib\\site-packages\\tensorflow_core\\python\\eager\\function.py\u001b[0m in \u001b[0;36m_call_flat\u001b[1;34m(self, args, captured_inputs, cancellation_manager)\u001b[0m\n\u001b[0;32m   1690\u001b[0m       \u001b[1;31m# No tape is watching; skip to running the function.\u001b[0m\u001b[1;33m\u001b[0m\u001b[1;33m\u001b[0m\u001b[1;33m\u001b[0m\u001b[0m\n\u001b[0;32m   1691\u001b[0m       return self._build_call_outputs(self._inference_function.call(\n\u001b[1;32m-> 1692\u001b[1;33m           ctx, args, cancellation_manager=cancellation_manager))\n\u001b[0m\u001b[0;32m   1693\u001b[0m     forward_backward = self._select_forward_and_backward_functions(\n\u001b[0;32m   1694\u001b[0m         \u001b[0margs\u001b[0m\u001b[1;33m,\u001b[0m\u001b[1;33m\u001b[0m\u001b[1;33m\u001b[0m\u001b[0m\n",
      "\u001b[1;32mc:\\users\\rudy rachman\\appdata\\local\\programs\\python\\python37\\lib\\site-packages\\tensorflow_core\\python\\eager\\function.py\u001b[0m in \u001b[0;36mcall\u001b[1;34m(self, ctx, args, cancellation_manager)\u001b[0m\n\u001b[0;32m    543\u001b[0m               \u001b[0minputs\u001b[0m\u001b[1;33m=\u001b[0m\u001b[0margs\u001b[0m\u001b[1;33m,\u001b[0m\u001b[1;33m\u001b[0m\u001b[1;33m\u001b[0m\u001b[0m\n\u001b[0;32m    544\u001b[0m               \u001b[0mattrs\u001b[0m\u001b[1;33m=\u001b[0m\u001b[1;33m(\u001b[0m\u001b[1;34m\"executor_type\"\u001b[0m\u001b[1;33m,\u001b[0m \u001b[0mexecutor_type\u001b[0m\u001b[1;33m,\u001b[0m \u001b[1;34m\"config_proto\"\u001b[0m\u001b[1;33m,\u001b[0m \u001b[0mconfig\u001b[0m\u001b[1;33m)\u001b[0m\u001b[1;33m,\u001b[0m\u001b[1;33m\u001b[0m\u001b[1;33m\u001b[0m\u001b[0m\n\u001b[1;32m--> 545\u001b[1;33m               ctx=ctx)\n\u001b[0m\u001b[0;32m    546\u001b[0m         \u001b[1;32melse\u001b[0m\u001b[1;33m:\u001b[0m\u001b[1;33m\u001b[0m\u001b[1;33m\u001b[0m\u001b[0m\n\u001b[0;32m    547\u001b[0m           outputs = execute.execute_with_cancellation(\n",
      "\u001b[1;32mc:\\users\\rudy rachman\\appdata\\local\\programs\\python\\python37\\lib\\site-packages\\tensorflow_core\\python\\eager\\execute.py\u001b[0m in \u001b[0;36mquick_execute\u001b[1;34m(op_name, num_outputs, inputs, attrs, ctx, name)\u001b[0m\n\u001b[0;32m     65\u001b[0m     \u001b[1;32melse\u001b[0m\u001b[1;33m:\u001b[0m\u001b[1;33m\u001b[0m\u001b[1;33m\u001b[0m\u001b[0m\n\u001b[0;32m     66\u001b[0m       \u001b[0mmessage\u001b[0m \u001b[1;33m=\u001b[0m \u001b[0me\u001b[0m\u001b[1;33m.\u001b[0m\u001b[0mmessage\u001b[0m\u001b[1;33m\u001b[0m\u001b[1;33m\u001b[0m\u001b[0m\n\u001b[1;32m---> 67\u001b[1;33m     \u001b[0msix\u001b[0m\u001b[1;33m.\u001b[0m\u001b[0mraise_from\u001b[0m\u001b[1;33m(\u001b[0m\u001b[0mcore\u001b[0m\u001b[1;33m.\u001b[0m\u001b[0m_status_to_exception\u001b[0m\u001b[1;33m(\u001b[0m\u001b[0me\u001b[0m\u001b[1;33m.\u001b[0m\u001b[0mcode\u001b[0m\u001b[1;33m,\u001b[0m \u001b[0mmessage\u001b[0m\u001b[1;33m)\u001b[0m\u001b[1;33m,\u001b[0m \u001b[1;32mNone\u001b[0m\u001b[1;33m)\u001b[0m\u001b[1;33m\u001b[0m\u001b[1;33m\u001b[0m\u001b[0m\n\u001b[0m\u001b[0;32m     68\u001b[0m   \u001b[1;32mexcept\u001b[0m \u001b[0mTypeError\u001b[0m \u001b[1;32mas\u001b[0m \u001b[0me\u001b[0m\u001b[1;33m:\u001b[0m\u001b[1;33m\u001b[0m\u001b[1;33m\u001b[0m\u001b[0m\n\u001b[0;32m     69\u001b[0m     keras_symbolic_tensors = [\n",
      "\u001b[1;32mc:\\users\\rudy rachman\\appdata\\local\\programs\\python\\python37\\lib\\site-packages\\six.py\u001b[0m in \u001b[0;36mraise_from\u001b[1;34m(value, from_value)\u001b[0m\n",
      "\u001b[1;31mResourceExhaustedError\u001b[0m: 2 root error(s) found.\n  (0) Resource exhausted:  OOM when allocating tensor with shape[2,1024,32,32] and type float on /job:localhost/replica:0/task:0/device:GPU:0 by allocator GPU_0_bfc\n\t [[node model_1/rpn_conv/Conv2D (defined at C:\\Users\\Rudy Rachman\\AppData\\Local\\Temp\\ipykernel_15508\\869298414.py:6) ]]\nHint: If you want to see a list of allocated tensors when OOM happens, add report_tensor_allocations_upon_oom to RunOptions for current allocation info.\n\n\t [[model_1/roi_bboxes/Reshape_2/_34]]\nHint: If you want to see a list of allocated tensors when OOM happens, add report_tensor_allocations_upon_oom to RunOptions for current allocation info.\n\n  (1) Resource exhausted:  OOM when allocating tensor with shape[2,1024,32,32] and type float on /job:localhost/replica:0/task:0/device:GPU:0 by allocator GPU_0_bfc\n\t [[node model_1/rpn_conv/Conv2D (defined at C:\\Users\\Rudy Rachman\\AppData\\Local\\Temp\\ipykernel_15508\\869298414.py:6) ]]\nHint: If you want to see a list of allocated tensors when OOM happens, add report_tensor_allocations_upon_oom to RunOptions for current allocation info.\n\n0 successful operations.\n0 derived errors ignored. [Op:__inference_distributed_function_13337]\n\nFunction call stack:\ndistributed_function -> distributed_function\n"
     ]
    }
   ],
   "source": [
    "step_size_train = train_utils.get_step_size(train_total_item, batch_size)\n",
    "history = frcnn_model.fit(frcnn_train_feed,\n",
    "                steps_per_epoch=step_size_train,\n",
    "                verbose = 1,\n",
    "                epochs=epochs,\n",
    "                callbacks=[checkpoint_callback, schedule_lr_callback])"
   ]
  },
  {
   "cell_type": "markdown",
   "id": "PWCSCIIPeJrq",
   "metadata": {
    "id": "PWCSCIIPeJrq"
   },
   "source": [
    "# Evaluate Model"
   ]
  },
  {
   "cell_type": "code",
   "execution_count": null,
   "id": "RMRo068ufZI-",
   "metadata": {
    "colab": {
     "base_uri": "https://localhost:8080/",
     "height": 1000
    },
    "executionInfo": {
     "elapsed": 4913,
     "status": "error",
     "timestamp": 1646587550672,
     "user": {
      "displayName": "Rudy Rachman",
      "photoUrl": "https://lh3.googleusercontent.com/a-/AOh14GjR_ga8owJunwGO3oOaTniUXc7H7F1oiQY22lOo=s64",
      "userId": "03977462672844851008"
     },
     "user_tz": -480
    },
    "id": "RMRo068ufZI-",
    "outputId": "faeb157a-840f-4b4f-ef20-9989e3afc9cc"
   },
   "outputs": [],
   "source": [
    "labels = [\"bg\"] + labels\n",
    "test_total_item = len(list(test_data))\n",
    "\n",
    "test_data = test_data.map(lambda data : data_utils.preprocessing_before_frcnn(\n",
    "                              data, IMAGE_SIZE, IMAGE_SIZE))\n",
    "\n",
    "test_data = test_data.padded_batch(\n",
    "    batch_size, padded_shapes=data_shapes, padding_values=padding_values)"
   ]
  },
  {
   "cell_type": "code",
   "execution_count": null,
   "id": "h36S6fBh28H6",
   "metadata": {
    "colab": {
     "base_uri": "https://localhost:8080/"
    },
    "executionInfo": {
     "elapsed": 3715,
     "status": "ok",
     "timestamp": 1646583118052,
     "user": {
      "displayName": "Rudy Rachman",
      "photoUrl": "https://lh3.googleusercontent.com/a-/AOh14GjR_ga8owJunwGO3oOaTniUXc7H7F1oiQY22lOo=s64",
      "userId": "03977462672844851008"
     },
     "user_tz": -480
    },
    "id": "h36S6fBh28H6",
    "outputId": "84b5cfb6-9c53-477f-ee80-e41ee389aecb"
   },
   "outputs": [],
   "source": [
    "load_path = io_utils.get_model_path(\"faster_rcnn\", backbone)\n",
    "rpn_model, feature_extractor = get_rpn_model(hyper_params)\n",
    "frcnn_test_model = faster_rcnn.get_model_frcnn(feature_extractor, rpn_model, anchors, hyper_params, mode=\"test\")\n",
    "frcnn_test_model.load_weights(load_path)"
   ]
  },
  {
   "cell_type": "code",
   "execution_count": null,
   "id": "G2HEsiCb4XwS",
   "metadata": {
    "colab": {
     "base_uri": "https://localhost:8080/"
    },
    "executionInfo": {
     "elapsed": 477,
     "status": "ok",
     "timestamp": 1646586486490,
     "user": {
      "displayName": "Rudy Rachman",
      "photoUrl": "https://lh3.googleusercontent.com/a-/AOh14GjR_ga8owJunwGO3oOaTniUXc7H7F1oiQY22lOo=s64",
      "userId": "03977462672844851008"
     },
     "user_tz": -480
    },
    "id": "G2HEsiCb4XwS",
    "outputId": "8b798b00-9c77-4ee0-ea67-2e26493905fb"
   },
   "outputs": [],
   "source": [
    "frcnn_test_model.summary()"
   ]
  },
  {
   "cell_type": "code",
   "execution_count": null,
   "id": "lyEsUe1YeLkH",
   "metadata": {
    "colab": {
     "base_uri": "https://localhost:8080/"
    },
    "executionInfo": {
     "elapsed": 231343,
     "status": "ok",
     "timestamp": 1646584500043,
     "user": {
      "displayName": "Rudy Rachman",
      "photoUrl": "https://lh3.googleusercontent.com/a-/AOh14GjR_ga8owJunwGO3oOaTniUXc7H7F1oiQY22lOo=s64",
      "userId": "03977462672844851008"
     },
     "user_tz": -480
    },
    "id": "lyEsUe1YeLkH",
    "outputId": "f9f0303f-a0f5-493f-b6cb-50d049c872a1"
   },
   "outputs": [],
   "source": [
    "step_size = train_utils.get_step_size(test_total_item, batch_size)\n",
    "pred_bboxes, pred_labels, pred_scores = frcnn_test_model.predict(test_data, steps=step_size, verbose=1)"
   ]
  },
  {
   "cell_type": "code",
   "execution_count": null,
   "id": "e1b7iKriejFX",
   "metadata": {
    "id": "e1b7iKriejFX"
   },
   "outputs": [],
   "source": [
    "pred_bboxes\n",
    "for i in pred_bboxes:\n",
    "  for j in i:\n",
    "    for result in j:\n",
    "      if result != 0:\n",
    "        print(\"Berhasil\")"
   ]
  },
  {
   "cell_type": "code",
   "execution_count": null,
   "id": "pZ_JXOzoekM6",
   "metadata": {
    "colab": {
     "base_uri": "https://localhost:8080/"
    },
    "executionInfo": {
     "elapsed": 3,
     "status": "ok",
     "timestamp": 1646584500044,
     "user": {
      "displayName": "Rudy Rachman",
      "photoUrl": "https://lh3.googleusercontent.com/a-/AOh14GjR_ga8owJunwGO3oOaTniUXc7H7F1oiQY22lOo=s64",
      "userId": "03977462672844851008"
     },
     "user_tz": -480
    },
    "id": "pZ_JXOzoekM6",
    "outputId": "35ebd206-7a5b-4fbb-b8a6-bf3683f169aa"
   },
   "outputs": [],
   "source": [
    "pred_labels"
   ]
  },
  {
   "cell_type": "code",
   "execution_count": null,
   "id": "9c8NUWVnel9G",
   "metadata": {
    "colab": {
     "base_uri": "https://localhost:8080/"
    },
    "executionInfo": {
     "elapsed": 3,
     "status": "ok",
     "timestamp": 1646584500045,
     "user": {
      "displayName": "Rudy Rachman",
      "photoUrl": "https://lh3.googleusercontent.com/a-/AOh14GjR_ga8owJunwGO3oOaTniUXc7H7F1oiQY22lOo=s64",
      "userId": "03977462672844851008"
     },
     "user_tz": -480
    },
    "id": "9c8NUWVnel9G",
    "outputId": "ba95c126-c809-4ef9-a40b-be72e9ac1f04"
   },
   "outputs": [],
   "source": [
    "pred_scores"
   ]
  },
  {
   "cell_type": "code",
   "execution_count": null,
   "id": "ID1sT640en3d",
   "metadata": {
    "colab": {
     "base_uri": "https://localhost:8080/"
    },
    "executionInfo": {
     "elapsed": 8818,
     "status": "ok",
     "timestamp": 1646584508861,
     "user": {
      "displayName": "Rudy Rachman",
      "photoUrl": "https://lh3.googleusercontent.com/a-/AOh14GjR_ga8owJunwGO3oOaTniUXc7H7F1oiQY22lOo=s64",
      "userId": "03977462672844851008"
     },
     "user_tz": -480
    },
    "id": "ID1sT640en3d",
    "outputId": "4eff0325-c622-40dd-b2bb-e65c7c0ede8e"
   },
   "outputs": [],
   "source": [
    "eval_utils.evaluate_predictions(test_data, pred_bboxes, pred_labels, pred_scores, labels, batch_size)"
   ]
  }
 ],
 "metadata": {
  "accelerator": "GPU",
  "colab": {
   "collapsed_sections": [
    "c_C2TIsGJJlI",
    "741bc394"
   ],
   "name": "Copy of Thesis(CNN).ipynb",
   "provenance": [
    {
     "file_id": "https://github.com/ruman1609/pothole-crack-faster-rcnn-detection/blob/master/Thesis(CNN).ipynb",
     "timestamp": 1646134510068
    }
   ]
  },
  "kernelspec": {
   "display_name": "Python 3 (ipykernel)",
   "language": "python",
   "name": "python3"
  },
  "language_info": {
   "codemirror_mode": {
    "name": "ipython",
    "version": 3
   },
   "file_extension": ".py",
   "mimetype": "text/x-python",
   "name": "python",
   "nbconvert_exporter": "python",
   "pygments_lexer": "ipython3",
   "version": "3.7.9"
  }
 },
 "nbformat": 4,
 "nbformat_minor": 5
}

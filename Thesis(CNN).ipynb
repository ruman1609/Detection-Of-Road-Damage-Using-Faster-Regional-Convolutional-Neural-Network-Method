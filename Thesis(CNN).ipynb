{
 "cells": [
  {
   "cell_type": "markdown",
   "id": "c_C2TIsGJJlI",
   "metadata": {
    "id": "c_C2TIsGJJlI"
   },
   "source": [
    "# Setup"
   ]
  },
  {
   "cell_type": "code",
   "execution_count": 1,
   "id": "_RwLFJ68JuEc",
   "metadata": {
    "colab": {
     "base_uri": "https://localhost:8080/"
    },
    "executionInfo": {
     "elapsed": 49,
     "status": "ok",
     "timestamp": 1650031439588,
     "user": {
      "displayName": "Rudy Rachman",
      "userId": "10932085253539596060"
     },
     "user_tz": -480
    },
    "id": "_RwLFJ68JuEc",
    "outputId": "794a5259-d1e7-4268-e934-2cf637bc6b91"
   },
   "outputs": [
    {
     "name": "stdout",
     "output_type": "stream",
     "text": [
      "Python 3.7.9\n"
     ]
    }
   ],
   "source": [
    "# from google.colab import drive\n",
    "# drive.mount('/content/drive/')\n",
    "# %cd drive/MyDrive/skripsi2.8/\n",
    "\n",
    "# if using hosted runtime uncomment this\n",
    "\n",
    "!python --version"
   ]
  },
  {
   "cell_type": "code",
   "execution_count": 2,
   "id": "94ac360f",
   "metadata": {
    "colab": {
     "base_uri": "https://localhost:8080/"
    },
    "executionInfo": {
     "elapsed": 2760,
     "status": "ok",
     "timestamp": 1650031442365,
     "user": {
      "displayName": "Rudy Rachman",
      "userId": "10932085253539596060"
     },
     "user_tz": -480
    },
    "id": "94ac360f",
    "outputId": "e202ab3a-2457-4114-9941-136d18db5cf4"
   },
   "outputs": [
    {
     "data": {
      "text/plain": [
       "'2.8.0'"
      ]
     },
     "execution_count": 2,
     "metadata": {},
     "output_type": "execute_result"
    }
   ],
   "source": [
    "import tensorflow as tf, matplotlib.pyplot as plt, numpy as np, matplotlib.pyplot as plt, matplotlib.patches as patches, os\n",
    "from tensorflow.keras.callbacks import ModelCheckpoint, TensorBoard\n",
    "from framework.utils import bbox_utils, data_utils, drawing_utils, eval_utils, io_utils, train_utils\n",
    "from framework.models import faster_rcnn\n",
    "\n",
    "# tf.autograph.set_verbosity(0)\n",
    "# import logging\n",
    "# logging.getLogger(\"tensorflow\").setLevel(logging.ERROR)\n",
    "\n",
    "tf.__version__"
   ]
  },
  {
   "cell_type": "code",
   "execution_count": 3,
   "id": "ivmstf5EhEne",
   "metadata": {
    "executionInfo": {
     "elapsed": 13,
     "status": "ok",
     "timestamp": 1650031442379,
     "user": {
      "displayName": "Rudy Rachman",
      "userId": "10932085253539596060"
     },
     "user_tz": -480
    },
    "id": "ivmstf5EhEne"
   },
   "outputs": [],
   "source": [
    "# !pip list"
   ]
  },
  {
   "cell_type": "markdown",
   "id": "741bc394",
   "metadata": {
    "id": "741bc394"
   },
   "source": [
    "# Read Dataset from TFRecord"
   ]
  },
  {
   "cell_type": "code",
   "execution_count": 4,
   "id": "574c7d6e",
   "metadata": {
    "executionInfo": {
     "elapsed": 15,
     "status": "ok",
     "timestamp": 1650031442410,
     "user": {
      "displayName": "Rudy Rachman",
      "userId": "10932085253539596060"
     },
     "user_tz": -480
    },
    "id": "574c7d6e"
   },
   "outputs": [],
   "source": [
    "AUTOTUNE = tf.data.experimental.AUTOTUNE\n",
    "IMAGE_SIZE = 512  # make sure had same size with the picture"
   ]
  },
  {
   "cell_type": "code",
   "execution_count": 5,
   "id": "a76049aa",
   "metadata": {
    "executionInfo": {
     "elapsed": 16,
     "status": "ok",
     "timestamp": 1650031442429,
     "user": {
      "displayName": "Rudy Rachman",
      "userId": "10932085253539596060"
     },
     "user_tz": -480
    },
    "id": "a76049aa"
   },
   "outputs": [],
   "source": [
    "def read_tfrecord(example):\n",
    "    tfrecord_format = {\n",
    "        \"filename\": tf.io.FixedLenFeature([], tf.string),\n",
    "        \"pic\": tf.io.FixedLenFeature([], tf.string),\n",
    "        \"bbox\": tf.io.FixedLenFeature([], tf.string),\n",
    "        \"label\": tf.io.FixedLenFeature([], tf.string)\n",
    "    }\n",
    "    example = tf.io.parse_single_example(example, tfrecord_format)\n",
    "    filename = tf.cast(example[\"filename\"], tf.string)\n",
    "    image = tf.io.parse_tensor(example[\"pic\"], out_type = tf.uint8)\n",
    "    bbox = tf.io.parse_tensor(example[\"bbox\"], out_type = tf.float32)\n",
    "    label = tf.io.parse_tensor(example[\"label\"], out_type = tf.int32)\n",
    "    return {\"filename\": filename, \"image\": image, \"bbox\": bbox, \"label\": label}"
   ]
  },
  {
   "cell_type": "code",
   "execution_count": 6,
   "id": "b7dc4e7f",
   "metadata": {
    "executionInfo": {
     "elapsed": 14,
     "status": "ok",
     "timestamp": 1650031442444,
     "user": {
      "displayName": "Rudy Rachman",
      "userId": "10932085253539596060"
     },
     "user_tz": -480
    },
    "id": "b7dc4e7f"
   },
   "outputs": [],
   "source": [
    "def load_dataset(filenames):\n",
    "    ignore_order = tf.data.Options()\n",
    "    ignore_order.experimental_deterministic = False  # disable order, increase speed\n",
    "    dataset = tf.data.TFRecordDataset(filenames)  # automatically interleaves reads from multiple files\n",
    "    dataset = dataset.with_options(ignore_order)  # uses data as soon as it streams in, rather than in its original order\n",
    "    dataset = dataset.map(read_tfrecord)\n",
    "    return dataset"
   ]
  },
  {
   "cell_type": "code",
   "execution_count": 7,
   "id": "55a6b241",
   "metadata": {
    "executionInfo": {
     "elapsed": 12,
     "status": "ok",
     "timestamp": 1650031442458,
     "user": {
      "displayName": "Rudy Rachman",
      "userId": "10932085253539596060"
     },
     "user_tz": -480
    },
    "id": "55a6b241"
   },
   "outputs": [],
   "source": [
    "def get_dataset(filenames, train=True):\n",
    "    dataset = load_dataset(filenames)\n",
    "    if train:\n",
    "        dataset = dataset.shuffle(2048)\n",
    "    dataset = dataset.prefetch(buffer_size=AUTOTUNE)\n",
    "    return dataset"
   ]
  },
  {
   "cell_type": "code",
   "execution_count": 8,
   "id": "0fc132b0",
   "metadata": {
    "executionInfo": {
     "elapsed": 15,
     "status": "ok",
     "timestamp": 1650031442476,
     "user": {
      "displayName": "Rudy Rachman",
      "userId": "10932085253539596060"
     },
     "user_tz": -480
    },
    "id": "0fc132b0"
   },
   "outputs": [],
   "source": [
    "def read_label_map(label_map_path):\n",
    "    item_id = None\n",
    "    item_name = None\n",
    "    items = {}\n",
    "\n",
    "    with open(label_map_path, \"r\") as file:\n",
    "        for line in file:\n",
    "            line.replace(\" \", \"\")\n",
    "            if line == \"item{\":\n",
    "                pass\n",
    "            elif line == \"}\":\n",
    "                pass\n",
    "            elif \"id\" in line:\n",
    "                item_id = int(line.split(\":\", 1)[1].strip())\n",
    "            elif \"name\" in line:\n",
    "                item_name = line.split(\":\", 1)[1].replace(\"'\", \"\").replace(\"\\\"\", \"\").strip()\n",
    "\n",
    "            if item_id is not None and item_name is not None:\n",
    "                items[item_name] = item_id\n",
    "                item_id = None\n",
    "                item_name = None\n",
    "\n",
    "    return items"
   ]
  },
  {
   "cell_type": "code",
   "execution_count": 9,
   "id": "b8135524",
   "metadata": {
    "executionInfo": {
     "elapsed": 14,
     "status": "ok",
     "timestamp": 1650031442492,
     "user": {
      "displayName": "Rudy Rachman",
      "userId": "10932085253539596060"
     },
     "user_tz": -480
    },
    "id": "b8135524"
   },
   "outputs": [],
   "source": [
    "label_map_path = \"./data_preparation/label_map.pbtxt\"\n",
    "label_map_dict = read_label_map(label_map_path)"
   ]
  },
  {
   "cell_type": "code",
   "execution_count": 10,
   "id": "17ca36eb",
   "metadata": {
    "executionInfo": {
     "elapsed": 13,
     "status": "ok",
     "timestamp": 1650031442506,
     "user": {
      "displayName": "Rudy Rachman",
      "userId": "10932085253539596060"
     },
     "user_tz": -480
    },
    "id": "17ca36eb"
   },
   "outputs": [],
   "source": [
    "def get_label_text(result, doc = label_map_dict):\n",
    "    for key, value in doc.items():\n",
    "        if(value == result + 1):\n",
    "            return key\n",
    "    return \"Unpredictable\""
   ]
  },
  {
   "cell_type": "code",
   "execution_count": 11,
   "id": "40c679cd",
   "metadata": {
    "colab": {
     "base_uri": "https://localhost:8080/"
    },
    "executionInfo": {
     "elapsed": 708,
     "status": "ok",
     "timestamp": 1650031443215,
     "user": {
      "displayName": "Rudy Rachman",
      "userId": "10932085253539596060"
     },
     "user_tz": -480
    },
    "id": "40c679cd",
    "outputId": "1f186a41-0edc-48c5-8258-bee6f0c90ec0",
    "scrolled": true
   },
   "outputs": [
    {
     "data": {
      "text/plain": [
       "<PrefetchDataset element_spec={'filename': TensorSpec(shape=(), dtype=tf.string, name=None), 'image': TensorSpec(shape=<unknown>, dtype=tf.uint8, name=None), 'bbox': TensorSpec(shape=<unknown>, dtype=tf.float32, name=None), 'label': TensorSpec(shape=<unknown>, dtype=tf.int32, name=None)}>"
      ]
     },
     "execution_count": 11,
     "metadata": {},
     "output_type": "execute_result"
    }
   ],
   "source": [
    "image_type = \"normal\"\n",
    "\n",
    "train_data = get_dataset(f\"./data_preparation/{image_type}_train.tfrecord\")\n",
    "\n",
    "test_data = get_dataset(f\"./data_preparation/{image_type}_test.tfrecord\", train=False)\n",
    "\n",
    "train_data"
   ]
  },
  {
   "cell_type": "code",
   "execution_count": 12,
   "id": "18140a61",
   "metadata": {
    "executionInfo": {
     "elapsed": 16,
     "status": "ok",
     "timestamp": 1650031443233,
     "user": {
      "displayName": "Rudy Rachman",
      "userId": "10932085253539596060"
     },
     "user_tz": -480
    },
    "id": "18140a61"
   },
   "outputs": [],
   "source": [
    "def show_data(data, n):\n",
    "    for dat in data.take(n):\n",
    "        plt.imshow(dat[\"image\"])\n",
    "        for coord in dat[\"bbox\"]: # bbox is ymin, xmin, ymax, xmax\n",
    "            coord *= IMAGE_SIZE\n",
    "            rect = patches.Rectangle(\n",
    "                (coord[1].numpy(), coord[0].numpy()),  # x1, y1\n",
    "                coord[3].numpy() - coord[1].numpy(),  # width\n",
    "                coord[2].numpy() - coord[0].numpy(),  # height\n",
    "                linewidth = 2, edgecolor = \"r\", fill = False)\n",
    "            plt.gca().add_patch(rect)\n",
    "        plt.show()"
   ]
  },
  {
   "cell_type": "code",
   "execution_count": null,
   "id": "c4c6670f",
   "metadata": {
    "colab": {
     "base_uri": "https://localhost:8080/",
     "height": 0
    },
    "executionInfo": {
     "elapsed": 4379,
     "status": "ok",
     "timestamp": 1650031447619,
     "user": {
      "displayName": "Rudy Rachman",
      "userId": "10932085253539596060"
     },
     "user_tz": -480
    },
    "id": "c4c6670f",
    "outputId": "42cfe9c1-cd2e-45f2-86a1-6ebf24f5ec4e"
   },
   "outputs": [],
   "source": [
    "show_data(train_data, 20)"
   ]
  },
  {
   "cell_type": "markdown",
   "id": "40d963e4",
   "metadata": {
    "id": "40d963e4"
   },
   "source": [
    "# Init Variable"
   ]
  },
  {
   "cell_type": "code",
   "execution_count": 13,
   "id": "f6916477",
   "metadata": {
    "executionInfo": {
     "elapsed": 2301,
     "status": "ok",
     "timestamp": 1650031450105,
     "user": {
      "displayName": "Rudy Rachman",
      "userId": "10932085253539596060"
     },
     "user_tz": -480
    },
    "id": "f6916477"
   },
   "outputs": [],
   "source": [
    "batch_size = 4\n",
    "epochs = 1\n",
    "\n",
    "# backbone = \"vgg16\"\n",
    "# backbone = \"mobilenet_v2\"\n",
    "backbone = \"resnet50\"\n",
    "\n",
    "hyper_params = train_utils.get_hyper_params(backbone)\n",
    "train_total_item = len(list(train_data))"
   ]
  },
  {
   "cell_type": "code",
   "execution_count": 14,
   "id": "29f3627f",
   "metadata": {
    "colab": {
     "base_uri": "https://localhost:8080/"
    },
    "executionInfo": {
     "elapsed": 50,
     "status": "ok",
     "timestamp": 1650031450167,
     "user": {
      "displayName": "Rudy Rachman",
      "userId": "10932085253539596060"
     },
     "user_tz": -480
    },
    "id": "29f3627f",
    "outputId": "12f53919-1ffe-4fcd-cf57-6dec411f777c"
   },
   "outputs": [
    {
     "name": "stdout",
     "output_type": "stream",
     "text": [
      "['damage']\n"
     ]
    }
   ],
   "source": [
    "labels = list(label_map_dict.keys())\n",
    "print(labels)\n",
    "# We add 1 class for background\n",
    "hyper_params[\"total_labels\"] = len(labels) + 1\n",
    "train_data = train_data.map(lambda data : data_utils.preprocessing_before_frcnn(data, IMAGE_SIZE, IMAGE_SIZE))"
   ]
  },
  {
   "cell_type": "code",
   "execution_count": 15,
   "id": "75ad2ae2",
   "metadata": {
    "executionInfo": {
     "elapsed": 14,
     "status": "ok",
     "timestamp": 1650031450182,
     "user": {
      "displayName": "Rudy Rachman",
      "userId": "10932085253539596060"
     },
     "user_tz": -480
    },
    "id": "75ad2ae2"
   },
   "outputs": [],
   "source": [
    "data_shapes = data_utils.get_data_shapes()\n",
    "padding_values = data_utils.get_padding_values()\n",
    "train_data = train_data.padded_batch(batch_size, padded_shapes=data_shapes, padding_values=padding_values)"
   ]
  },
  {
   "cell_type": "code",
   "execution_count": 16,
   "id": "d25c0b2e",
   "metadata": {
    "executionInfo": {
     "elapsed": 25,
     "status": "ok",
     "timestamp": 1650031450215,
     "user": {
      "displayName": "Rudy Rachman",
      "userId": "10932085253539596060"
     },
     "user_tz": -480
    },
    "id": "d25c0b2e"
   },
   "outputs": [],
   "source": [
    "anchors = bbox_utils.generate_anchors(hyper_params)\n",
    "frcnn_train_feed = train_utils.faster_rcnn_generator(train_data, anchors, hyper_params)"
   ]
  },
  {
   "cell_type": "code",
   "execution_count": 17,
   "id": "gJKRRac6y5jD",
   "metadata": {
    "executionInfo": {
     "elapsed": 14,
     "status": "ok",
     "timestamp": 1650031450230,
     "user": {
      "displayName": "Rudy Rachman",
      "userId": "10932085253539596060"
     },
     "user_tz": -480
    },
    "id": "gJKRRac6y5jD"
   },
   "outputs": [],
   "source": [
    "if (backbone == \"vgg16\"):\n",
    "    from framework.models.rpn_vgg16 import get_rpn_model\n",
    "elif (backbone == \"mobilenet_v2\"):\n",
    "    from framework.models.rpn_mobilenet_v2 import get_rpn_model\n",
    "elif (backbone == \"resnet50\"):\n",
    "    from framework.models.rpn_resnet50 import get_rpn_model"
   ]
  },
  {
   "cell_type": "markdown",
   "id": "si4dLtXYLc8v",
   "metadata": {
    "id": "si4dLtXYLc8v"
   },
   "source": [
    "# Train Model"
   ]
  },
  {
   "cell_type": "code",
   "execution_count": null,
   "id": "tLGd37WDOGX1",
   "metadata": {
    "colab": {
     "base_uri": "https://localhost:8080/",
     "height": 599
    },
    "executionInfo": {
     "elapsed": 929,
     "status": "error",
     "timestamp": 1650032473700,
     "user": {
      "displayName": "Rudy Rachman",
      "userId": "10932085253539596060"
     },
     "user_tz": -480
    },
    "id": "tLGd37WDOGX1",
    "outputId": "99ec1baf-2fbe-4c33-a031-cd3217d24d43"
   },
   "outputs": [],
   "source": [
    "# Load weights\n",
    "frcnn_weight_path = io_utils.get_weight_path(\"faster_rcnn\", backbone)\n",
    "frcnn_model_path = io_utils.get_model_path(\"faster_rcnn\", backbone)\n",
    "\n",
    "\n",
    "load_weights = False\n",
    "load_model = False\n",
    "if load_model:\n",
    "  frcnn_model = tf.keras.models.load_model(frcnn_model_path, custom_objects={\n",
    "    \"RoIBBox\": faster_rcnn.RoIBBox,\n",
    "    \"RoIDelta\": faster_rcnn.RoIDelta,\n",
    "    \"RoIPooling\": faster_rcnn.RoIPooling\n",
    "  })\n",
    "  # frcnn_model.compile(optimizer=tf.optimizers.SGD(momentum=7e-1))  # uncomment if you need to recompile\n",
    "else:\n",
    "  rpn_model, feature_extractor = get_rpn_model(hyper_params)\n",
    "  frcnn_model = faster_rcnn.get_model_frcnn(\n",
    "      feature_extractor, rpn_model, anchors, hyper_params)\n",
    "  frcnn_model.compile(optimizer=tf.optimizers.SGD(learning_rate=92e-5, momentum=8e-1))\n",
    "  faster_rcnn.init_model_frcnn(frcnn_model, hyper_params)\n",
    "  if load_weights:\n",
    "      frcnn_model.load_weights(frcnn_weight_path)"
   ]
  },
  {
   "cell_type": "code",
   "execution_count": null,
   "id": "j7CkXcKoO4Q9",
   "metadata": {
    "executionInfo": {
     "elapsed": 939,
     "status": "aborted",
     "timestamp": 1650032473697,
     "user": {
      "displayName": "Rudy Rachman",
      "userId": "10932085253539596060"
     },
     "user_tz": -480
    },
    "id": "j7CkXcKoO4Q9"
   },
   "outputs": [],
   "source": [
    "log_path = io_utils.get_log_path(\"faster_rcnn\", backbone)\n",
    "checkpoint_callback = ModelCheckpoint(frcnn_model_path, monitor=\"loss\")\n",
    "weight_checkpoint_callback = ModelCheckpoint(\n",
    "    frcnn_weight_path,monitor=\"loss\",\n",
    "    save_best_only=True, save_weights_only=True)\n",
    "tensorboard_callback = TensorBoard(log_dir=log_path)\n",
    "\n",
    "# history_path = io_utils.get_history_path(\"faster_rcnn\", backbone)\n",
    "# csv_callback = tf.keras.callbacks.CSVLogger(history_path,\n",
    "#                                             separator=\",\", append=True)\n",
    "\n",
    "# total_epoch = 0\n",
    "## result: : \n",
    "# schedule_lr_callback = tf.keras.callbacks.LearningRateScheduler(\n",
    "#     lambda ep: 1e-5 * 10 ** ((ep + total_epoch) / 30))"
   ]
  },
  {
   "cell_type": "code",
   "execution_count": null,
   "id": "5qqEJWqQP8O2",
   "metadata": {
    "executionInfo": {
     "elapsed": 956,
     "status": "aborted",
     "timestamp": 1650032473720,
     "user": {
      "displayName": "Rudy Rachman",
      "userId": "10932085253539596060"
     },
     "user_tz": -480
    },
    "id": "5qqEJWqQP8O2"
   },
   "outputs": [],
   "source": [
    "step_size_train = train_utils.get_step_size(train_total_item, batch_size)\n",
    "history = frcnn_model.fit(frcnn_train_feed,\n",
    "                steps_per_epoch=step_size_train,\n",
    "                verbose = 1,\n",
    "                epochs=epochs,\n",
    "                callbacks=[weight_checkpoint_callback,\n",
    "                           checkpoint_callback,\n",
    "                           tensorboard_callback])"
   ]
  },
  {
   "cell_type": "markdown",
   "id": "ARV1e2Cu8nMC",
   "metadata": {
    "id": "ARV1e2Cu8nMC"
   },
   "source": [
    "# Learning Rate Hypothesis"
   ]
  },
  {
   "cell_type": "code",
   "execution_count": null,
   "id": "uoEnPk5E8cQS",
   "metadata": {
    "id": "uoEnPk5E8cQS"
   },
   "outputs": [],
   "source": [
    "import matplotlib.pyplot as plt\n",
    "from matplotlib import rcParams\n",
    "import pandas as pd, numpy as np\n",
    "rcParams['figure.figsize'] = (18, 8)\n",
    "rcParams['axes.spines.top'] = False\n",
    "rcParams['axes.spines.right'] = False "
   ]
  },
  {
   "cell_type": "code",
   "execution_count": null,
   "id": "NP2tb2g8sjLP",
   "metadata": {
    "id": "NP2tb2g8sjLP"
   },
   "outputs": [],
   "source": [
    "history_path = io_utils.get_history_path(\"faster_rcnn\", backbone)\n",
    "hist_data = pd.read_csv(history_path)\n",
    "history_loss = np.array(hist_data[\"loss\"])"
   ]
  },
  {
   "cell_type": "code",
   "execution_count": null,
   "id": "9QAtkKh-8zWA",
   "metadata": {
    "id": "9QAtkKh-8zWA"
   },
   "outputs": [],
   "source": [
    "learning_rates = 1e-5 * (10 ** (np.arange(len(history_loss)) / 30))\n",
    "plt.semilogx(\n",
    "    learning_rates, \n",
    "    history_loss, \n",
    "    lw=3, color='#000'\n",
    ")\n",
    "plt.title('Learning rate vs. loss', size=20)\n",
    "plt.xlabel('Learning rate', size=14)\n",
    "plt.ylabel('Loss', size=14);"
   ]
  },
  {
   "cell_type": "markdown",
   "id": "PWCSCIIPeJrq",
   "metadata": {
    "id": "PWCSCIIPeJrq"
   },
   "source": [
    "# Evaluate Model"
   ]
  },
  {
   "cell_type": "code",
   "execution_count": 18,
   "id": "RMRo068ufZI-",
   "metadata": {
    "executionInfo": {
     "elapsed": 2061,
     "status": "ok",
     "timestamp": 1650032426235,
     "user": {
      "displayName": "Rudy Rachman",
      "userId": "10932085253539596060"
     },
     "user_tz": -480
    },
    "id": "RMRo068ufZI-"
   },
   "outputs": [],
   "source": [
    "labels = [\"bg\"] + labels\n",
    "test_total_item = len(list(test_data))\n",
    "\n",
    "test_data = test_data.map(lambda data : data_utils.preprocessing_before_frcnn(\n",
    "                              data, IMAGE_SIZE, IMAGE_SIZE))\n",
    "\n",
    "test_data = test_data.padded_batch(\n",
    "    batch_size, padded_shapes=data_shapes, padding_values=padding_values)"
   ]
  },
  {
   "cell_type": "code",
   "execution_count": 19,
   "id": "h36S6fBh28H6",
   "metadata": {
    "executionInfo": {
     "elapsed": 2201,
     "status": "ok",
     "timestamp": 1650032428438,
     "user": {
      "displayName": "Rudy Rachman",
      "userId": "10932085253539596060"
     },
     "user_tz": -480
    },
    "id": "h36S6fBh28H6"
   },
   "outputs": [],
   "source": [
    "load_path = io_utils.get_weight_path(\"faster_rcnn\", backbone)\n",
    "rpn_model, feature_extractor = get_rpn_model(hyper_params)\n",
    "frcnn_test_model = faster_rcnn.get_model_frcnn(feature_extractor, rpn_model, anchors, hyper_params, mode=\"test\")\n",
    "frcnn_test_model.load_weights(load_path)"
   ]
  },
  {
   "cell_type": "code",
   "execution_count": 20,
   "id": "lyEsUe1YeLkH",
   "metadata": {
    "colab": {
     "base_uri": "https://localhost:8080/"
    },
    "executionInfo": {
     "elapsed": 14582,
     "status": "ok",
     "timestamp": 1650032443027,
     "user": {
      "displayName": "Rudy Rachman",
      "userId": "10932085253539596060"
     },
     "user_tz": -480
    },
    "id": "lyEsUe1YeLkH",
    "outputId": "86523d78-65cd-4478-93f8-632f346d585b"
   },
   "outputs": [
    {
     "name": "stdout",
     "output_type": "stream",
     "text": [
      "120/120 [==============================] - 18s 112ms/step\n"
     ]
    }
   ],
   "source": [
    "step_size = train_utils.get_step_size(test_total_item, batch_size)\n",
    "pred_bboxes, pred_labels, pred_scores = frcnn_test_model.predict(test_data, steps=step_size, verbose=1)"
   ]
  },
  {
   "cell_type": "code",
   "execution_count": 21,
   "id": "ID1sT640en3d",
   "metadata": {
    "colab": {
     "base_uri": "https://localhost:8080/",
     "height": 426
    },
    "executionInfo": {
     "elapsed": 3667,
     "status": "error",
     "timestamp": 1650032446699,
     "user": {
      "displayName": "Rudy Rachman",
      "userId": "10932085253539596060"
     },
     "user_tz": -480
    },
    "id": "ID1sT640en3d",
    "outputId": "17cbb40c-fa41-46cf-f246-1e9fdeb547f7"
   },
   "outputs": [
    {
     "name": "stdout",
     "output_type": "stream",
     "text": [
      "UniqueWithCounts(y=<tf.Tensor: shape=(1,), dtype=int32, numpy=array([1])>, idx=<tf.Tensor: shape=(4,), dtype=int32, numpy=array([0, 0, 0, 0])>, count=<tf.Tensor: shape=(1,), dtype=int32, numpy=array([4])>)\n",
      "\n",
      "4\n",
      "index: 0\n",
      "-------------------------------\n",
      "UniqueWithCounts(y=<tf.Tensor: shape=(1,), dtype=int32, numpy=array([1])>, idx=<tf.Tensor: shape=(4,), dtype=int32, numpy=array([0, 0, 0, 0])>, count=<tf.Tensor: shape=(1,), dtype=int32, numpy=array([4])>)\n",
      "\n",
      "4\n",
      "index: 0\n",
      "-------------------------------\n",
      "UniqueWithCounts(y=<tf.Tensor: shape=(2,), dtype=int32, numpy=array([ 1, -1])>, idx=<tf.Tensor: shape=(16,), dtype=int32, numpy=array([0, 1, 1, 1, 0, 1, 1, 1, 0, 0, 0, 0, 0, 0, 0, 0])>, count=<tf.Tensor: shape=(2,), dtype=int32, numpy=array([10,  6])>)\n",
      "\n",
      "10\n",
      "index: 0\n",
      "-------------------------------\n",
      "UniqueWithCounts(y=<tf.Tensor: shape=(2,), dtype=int32, numpy=array([ 1, -1])>, idx=<tf.Tensor: shape=(16,), dtype=int32, numpy=array([0, 0, 0, 0, 0, 0, 0, 0, 0, 0, 0, 0, 0, 1, 1, 1])>, count=<tf.Tensor: shape=(2,), dtype=int32, numpy=array([13,  3])>)\n",
      "\n",
      "13\n",
      "index: 0\n",
      "-------------------------------\n",
      "UniqueWithCounts(y=<tf.Tensor: shape=(1,), dtype=int32, numpy=array([1])>, idx=<tf.Tensor: shape=(4,), dtype=int32, numpy=array([0, 0, 0, 0])>, count=<tf.Tensor: shape=(1,), dtype=int32, numpy=array([4])>)\n",
      "\n",
      "4\n",
      "index: 0\n",
      "-------------------------------\n",
      "UniqueWithCounts(y=<tf.Tensor: shape=(1,), dtype=int32, numpy=array([1])>, idx=<tf.Tensor: shape=(12,), dtype=int32, numpy=array([0, 0, 0, 0, 0, 0, 0, 0, 0, 0, 0, 0])>, count=<tf.Tensor: shape=(1,), dtype=int32, numpy=array([12])>)\n",
      "\n",
      "12\n",
      "index: 0\n",
      "-------------------------------\n",
      "UniqueWithCounts(y=<tf.Tensor: shape=(2,), dtype=int32, numpy=array([ 1, -1])>, idx=<tf.Tensor: shape=(52,), dtype=int32, numpy=\n",
      "array([0, 0, 0, 1, 1, 1, 1, 1, 1, 1, 1, 1, 1, 0, 0, 0, 0, 0, 0, 0, 0, 0,\n",
      "       0, 0, 0, 0, 0, 0, 0, 0, 0, 0, 0, 0, 0, 0, 0, 0, 0, 0, 0, 0, 0, 0,\n",
      "       0, 0, 0, 0, 0, 0, 0, 0])>, count=<tf.Tensor: shape=(2,), dtype=int32, numpy=array([42, 10])>)\n",
      "\n",
      "42\n",
      "index: 0\n",
      "-------------------------------\n",
      "UniqueWithCounts(y=<tf.Tensor: shape=(2,), dtype=int32, numpy=array([ 1, -1])>, idx=<tf.Tensor: shape=(52,), dtype=int32, numpy=\n",
      "array([0, 0, 0, 0, 0, 0, 0, 0, 0, 0, 0, 0, 0, 0, 0, 0, 0, 0, 0, 0, 0, 0,\n",
      "       0, 0, 0, 0, 0, 0, 1, 1, 1, 1, 1, 1, 1, 1, 1, 1, 1, 0, 0, 1, 1, 1,\n",
      "       1, 1, 1, 1, 1, 1, 1, 1])>, count=<tf.Tensor: shape=(2,), dtype=int32, numpy=array([30, 22])>)\n",
      "\n",
      "30\n",
      "index: 0\n",
      "-------------------------------\n",
      "UniqueWithCounts(y=<tf.Tensor: shape=(2,), dtype=int32, numpy=array([ 1, -1])>, idx=<tf.Tensor: shape=(8,), dtype=int32, numpy=array([0, 0, 0, 0, 0, 0, 0, 1])>, count=<tf.Tensor: shape=(2,), dtype=int32, numpy=array([7, 1])>)\n",
      "\n",
      "7\n",
      "index: 0\n",
      "-------------------------------\n",
      "UniqueWithCounts(y=<tf.Tensor: shape=(1,), dtype=int32, numpy=array([1])>, idx=<tf.Tensor: shape=(4,), dtype=int32, numpy=array([0, 0, 0, 0])>, count=<tf.Tensor: shape=(1,), dtype=int32, numpy=array([4])>)\n",
      "\n",
      "4\n",
      "index: 0\n",
      "-------------------------------\n",
      "UniqueWithCounts(y=<tf.Tensor: shape=(1,), dtype=int32, numpy=array([1])>, idx=<tf.Tensor: shape=(16,), dtype=int32, numpy=array([0, 0, 0, 0, 0, 0, 0, 0, 0, 0, 0, 0, 0, 0, 0, 0])>, count=<tf.Tensor: shape=(1,), dtype=int32, numpy=array([16])>)\n",
      "\n",
      "16\n",
      "index: 0\n",
      "-------------------------------\n",
      "UniqueWithCounts(y=<tf.Tensor: shape=(2,), dtype=int32, numpy=array([ 1, -1])>, idx=<tf.Tensor: shape=(16,), dtype=int32, numpy=array([0, 0, 0, 0, 0, 1, 1, 1, 0, 1, 1, 1, 0, 1, 1, 1])>, count=<tf.Tensor: shape=(2,), dtype=int32, numpy=array([7, 9])>)\n",
      "\n",
      "7\n",
      "index: 0\n",
      "-------------------------------\n",
      "UniqueWithCounts(y=<tf.Tensor: shape=(2,), dtype=int32, numpy=array([ 1, -1])>, idx=<tf.Tensor: shape=(8,), dtype=int32, numpy=array([0, 1, 0, 1, 0, 0, 0, 0])>, count=<tf.Tensor: shape=(2,), dtype=int32, numpy=array([6, 2])>)\n",
      "\n",
      "6\n",
      "index: 0\n",
      "-------------------------------\n",
      "UniqueWithCounts(y=<tf.Tensor: shape=(2,), dtype=int32, numpy=array([ 1, -1])>, idx=<tf.Tensor: shape=(8,), dtype=int32, numpy=array([0, 0, 0, 0, 0, 0, 0, 1])>, count=<tf.Tensor: shape=(2,), dtype=int32, numpy=array([7, 1])>)\n",
      "\n",
      "7\n",
      "index: 0\n",
      "-------------------------------\n",
      "UniqueWithCounts(y=<tf.Tensor: shape=(1,), dtype=int32, numpy=array([1])>, idx=<tf.Tensor: shape=(4,), dtype=int32, numpy=array([0, 0, 0, 0])>, count=<tf.Tensor: shape=(1,), dtype=int32, numpy=array([4])>)\n",
      "\n",
      "4\n",
      "index: 0\n",
      "-------------------------------\n",
      "UniqueWithCounts(y=<tf.Tensor: shape=(1,), dtype=int32, numpy=array([1])>, idx=<tf.Tensor: shape=(8,), dtype=int32, numpy=array([0, 0, 0, 0, 0, 0, 0, 0])>, count=<tf.Tensor: shape=(1,), dtype=int32, numpy=array([8])>)\n",
      "\n",
      "8\n",
      "index: 0\n",
      "-------------------------------\n",
      "UniqueWithCounts(y=<tf.Tensor: shape=(2,), dtype=int32, numpy=array([ 1, -1])>, idx=<tf.Tensor: shape=(8,), dtype=int32, numpy=array([0, 0, 0, 1, 0, 1, 0, 1])>, count=<tf.Tensor: shape=(2,), dtype=int32, numpy=array([5, 3])>)\n",
      "\n",
      "5\n",
      "index: 0\n",
      "-------------------------------\n",
      "UniqueWithCounts(y=<tf.Tensor: shape=(2,), dtype=int32, numpy=array([ 1, -1])>, idx=<tf.Tensor: shape=(12,), dtype=int32, numpy=array([0, 1, 1, 0, 1, 1, 0, 0, 0, 0, 0, 0])>, count=<tf.Tensor: shape=(2,), dtype=int32, numpy=array([8, 4])>)\n",
      "\n",
      "8\n",
      "index: 0\n",
      "-------------------------------\n",
      "UniqueWithCounts(y=<tf.Tensor: shape=(3,), dtype=int32, numpy=array([ 1,  2, -1])>, idx=<tf.Tensor: shape=(12,), dtype=int32, numpy=array([0, 0, 0, 0, 0, 0, 0, 0, 0, 1, 2, 2])>, count=<tf.Tensor: shape=(3,), dtype=int32, numpy=array([9, 1, 2])>)\n",
      "\n",
      "9\n",
      "index: 0\n",
      "-------------------------------\n",
      "UniqueWithCounts(y=<tf.Tensor: shape=(3,), dtype=int32, numpy=array([ 1,  2, -1])>, idx=<tf.Tensor: shape=(12,), dtype=int32, numpy=array([0, 0, 0, 0, 0, 0, 0, 0, 0, 1, 2, 2])>, count=<tf.Tensor: shape=(3,), dtype=int32, numpy=array([9, 1, 2])>)\n",
      "\n",
      "1\n",
      "index: 1\n",
      "-------------------------------\n"
     ]
    },
    {
     "ename": "KeyError",
     "evalue": "2",
     "output_type": "error",
     "traceback": [
      "\u001b[1;31m---------------------------------------------------------------------------\u001b[0m",
      "\u001b[1;31mKeyError\u001b[0m                                  Traceback (most recent call last)",
      "\u001b[1;32m~\\AppData\\Local\\Temp\\ipykernel_16500\\3210186612.py\u001b[0m in \u001b[0;36m<module>\u001b[1;34m\u001b[0m\n\u001b[1;32m----> 1\u001b[1;33m \u001b[0mstats\u001b[0m\u001b[1;33m,\u001b[0m \u001b[0mhist\u001b[0m \u001b[1;33m=\u001b[0m \u001b[0meval_utils\u001b[0m\u001b[1;33m.\u001b[0m\u001b[0mevaluate_predictions\u001b[0m\u001b[1;33m(\u001b[0m\u001b[0mtest_data\u001b[0m\u001b[1;33m,\u001b[0m \u001b[0mpred_bboxes\u001b[0m\u001b[1;33m,\u001b[0m \u001b[0mpred_labels\u001b[0m\u001b[1;33m,\u001b[0m \u001b[0mpred_scores\u001b[0m\u001b[1;33m,\u001b[0m \u001b[0mlabels\u001b[0m\u001b[1;33m,\u001b[0m \u001b[0mbatch_size\u001b[0m\u001b[1;33m)\u001b[0m\u001b[1;33m\u001b[0m\u001b[1;33m\u001b[0m\u001b[0m\n\u001b[0m\u001b[0;32m      2\u001b[0m \u001b[0mprint\u001b[0m\u001b[1;33m(\u001b[0m\u001b[1;34m\"DONE\"\u001b[0m\u001b[1;33m)\u001b[0m\u001b[1;33m\u001b[0m\u001b[1;33m\u001b[0m\u001b[0m\n",
      "\u001b[1;32mD:\\Kuliah\\SKRIPSI & PKM 2021\\Program\\framework\\utils\\eval_utils.py\u001b[0m in \u001b[0;36mevaluate_predictions\u001b[1;34m(dataset, pred_bboxes, pred_labels, pred_scores, labels, batch_size)\u001b[0m\n\u001b[0;32m    123\u001b[0m         \u001b[0mend\u001b[0m \u001b[1;33m=\u001b[0m \u001b[0mstart\u001b[0m \u001b[1;33m+\u001b[0m \u001b[0mbatch_size\u001b[0m\u001b[1;33m\u001b[0m\u001b[1;33m\u001b[0m\u001b[0m\n\u001b[0;32m    124\u001b[0m         \u001b[0mbatch_bboxes\u001b[0m\u001b[1;33m,\u001b[0m \u001b[0mbatch_labels\u001b[0m\u001b[1;33m,\u001b[0m \u001b[0mbatch_scores\u001b[0m \u001b[1;33m=\u001b[0m \u001b[0mpred_bboxes\u001b[0m\u001b[1;33m[\u001b[0m\u001b[0mstart\u001b[0m\u001b[1;33m:\u001b[0m\u001b[0mend\u001b[0m\u001b[1;33m]\u001b[0m\u001b[1;33m,\u001b[0m \u001b[0mpred_labels\u001b[0m\u001b[1;33m[\u001b[0m\u001b[0mstart\u001b[0m\u001b[1;33m:\u001b[0m\u001b[0mend\u001b[0m\u001b[1;33m]\u001b[0m\u001b[1;33m,\u001b[0m \u001b[0mpred_scores\u001b[0m\u001b[1;33m[\u001b[0m\u001b[0mstart\u001b[0m\u001b[1;33m:\u001b[0m\u001b[0mend\u001b[0m\u001b[1;33m]\u001b[0m\u001b[1;33m\u001b[0m\u001b[1;33m\u001b[0m\u001b[0m\n\u001b[1;32m--> 125\u001b[1;33m         \u001b[0mstats\u001b[0m\u001b[1;33m,\u001b[0m \u001b[0mhist\u001b[0m \u001b[1;33m=\u001b[0m \u001b[0mupdate_stats\u001b[0m\u001b[1;33m(\u001b[0m\u001b[0mbatch_bboxes\u001b[0m\u001b[1;33m,\u001b[0m \u001b[0mbatch_labels\u001b[0m\u001b[1;33m,\u001b[0m \u001b[0mbatch_scores\u001b[0m\u001b[1;33m,\u001b[0m \u001b[0mgt_boxes\u001b[0m\u001b[1;33m,\u001b[0m \u001b[0mgt_labels\u001b[0m\u001b[1;33m,\u001b[0m \u001b[0mstats\u001b[0m\u001b[1;33m,\u001b[0m \u001b[0mhist\u001b[0m\u001b[1;33m)\u001b[0m\u001b[1;33m\u001b[0m\u001b[1;33m\u001b[0m\u001b[0m\n\u001b[0m\u001b[0;32m    126\u001b[0m \u001b[1;33m\u001b[0m\u001b[0m\n\u001b[0;32m    127\u001b[0m     \u001b[0mstats\u001b[0m\u001b[1;33m,\u001b[0m \u001b[0mmAP\u001b[0m \u001b[1;33m=\u001b[0m \u001b[0mcalculate_mAP\u001b[0m\u001b[1;33m(\u001b[0m\u001b[0mstats\u001b[0m\u001b[1;33m)\u001b[0m\u001b[1;33m\u001b[0m\u001b[1;33m\u001b[0m\u001b[0m\n",
      "\u001b[1;32mD:\\Kuliah\\SKRIPSI & PKM 2021\\Program\\framework\\utils\\eval_utils.py\u001b[0m in \u001b[0;36mupdate_stats\u001b[1;34m(pred_bboxes, pred_labels, pred_scores, gt_boxes, gt_labels, stats, hist)\u001b[0m\n\u001b[0;32m     45\u001b[0m         \u001b[0mprint\u001b[0m\u001b[1;33m(\u001b[0m\u001b[1;34m\"-------------------------------\"\u001b[0m\u001b[1;33m)\u001b[0m\u001b[1;33m\u001b[0m\u001b[1;33m\u001b[0m\u001b[0m\n\u001b[0;32m     46\u001b[0m         \u001b[0mtotalCount\u001b[0m \u001b[1;33m=\u001b[0m \u001b[0mint\u001b[0m\u001b[1;33m(\u001b[0m\u001b[0mcount_holder\u001b[0m\u001b[1;33m[\u001b[0m\u001b[1;36m2\u001b[0m\u001b[1;33m]\u001b[0m\u001b[1;33m[\u001b[0m\u001b[0mi\u001b[0m\u001b[1;33m]\u001b[0m\u001b[1;33m)\u001b[0m\u001b[1;33m\u001b[0m\u001b[1;33m\u001b[0m\u001b[0m\n\u001b[1;32m---> 47\u001b[1;33m         \u001b[0mstats\u001b[0m\u001b[1;33m[\u001b[0m\u001b[0mgt_label\u001b[0m\u001b[1;33m]\u001b[0m\u001b[1;33m[\u001b[0m\u001b[1;34m\"total\"\u001b[0m\u001b[1;33m]\u001b[0m \u001b[1;33m+=\u001b[0m \u001b[0mtotalCount\u001b[0m\u001b[1;33m\u001b[0m\u001b[1;33m\u001b[0m\u001b[0m\n\u001b[0m\u001b[0;32m     48\u001b[0m     \u001b[1;32mfor\u001b[0m \u001b[0mbatch_id\u001b[0m\u001b[1;33m,\u001b[0m \u001b[0mm\u001b[0m \u001b[1;32min\u001b[0m \u001b[0menumerate\u001b[0m\u001b[1;33m(\u001b[0m\u001b[0mmerged_iou_map\u001b[0m\u001b[1;33m)\u001b[0m\u001b[1;33m:\u001b[0m\u001b[1;33m\u001b[0m\u001b[1;33m\u001b[0m\u001b[0m\n\u001b[0;32m     49\u001b[0m         \u001b[0mtrue_labels\u001b[0m \u001b[1;33m=\u001b[0m \u001b[1;33m[\u001b[0m\u001b[1;33m]\u001b[0m\u001b[1;33m\u001b[0m\u001b[1;33m\u001b[0m\u001b[0m\n",
      "\u001b[1;31mKeyError\u001b[0m: 2"
     ]
    }
   ],
   "source": [
    "stats, hist = eval_utils.evaluate_predictions(test_data, pred_bboxes, pred_labels, pred_scores, labels, batch_size)\n",
    "print(\"DONE\")"
   ]
  },
  {
   "cell_type": "code",
   "execution_count": null,
   "id": "3JcVJDwL2p5g",
   "metadata": {
    "executionInfo": {
     "elapsed": 1,
     "status": "aborted",
     "timestamp": 1650032446744,
     "user": {
      "displayName": "Rudy Rachman",
      "userId": "10932085253539596060"
     },
     "user_tz": -480
    },
    "id": "3JcVJDwL2p5g"
   },
   "outputs": [],
   "source": [
    "stats"
   ]
  },
  {
   "cell_type": "code",
   "execution_count": null,
   "id": "0gB0SUUngW5y",
   "metadata": {
    "executionInfo": {
     "elapsed": 0,
     "status": "aborted",
     "timestamp": 1650032446746,
     "user": {
      "displayName": "Rudy Rachman",
      "userId": "10932085253539596060"
     },
     "user_tz": -480
    },
    "id": "0gB0SUUngW5y"
   },
   "outputs": [],
   "source": [
    "hist"
   ]
  }
 ],
 "metadata": {
  "accelerator": "GPU",
  "colab": {
   "collapsed_sections": [
    "c_C2TIsGJJlI",
    "741bc394",
    "40d963e4",
    "ARV1e2Cu8nMC"
   ],
   "name": "Thesis(CNN)2.8.ipynb",
   "provenance": [
    {
     "file_id": "https://github.com/ruman1609/pothole-crack-faster-rcnn-detection/blob/master/Thesis(CNN).ipynb",
     "timestamp": 1646134510068
    }
   ]
  },
  "kernelspec": {
   "display_name": "Python 3 (ipykernel)",
   "language": "python",
   "name": "python3"
  },
  "language_info": {
   "codemirror_mode": {
    "name": "ipython",
    "version": 3
   },
   "file_extension": ".py",
   "mimetype": "text/x-python",
   "name": "python",
   "nbconvert_exporter": "python",
   "pygments_lexer": "ipython3",
   "version": "3.7.9"
  },
  "toc": {
   "base_numbering": 1,
   "nav_menu": {},
   "number_sections": true,
   "sideBar": true,
   "skip_h1_title": false,
   "title_cell": "Table of Contents",
   "title_sidebar": "Contents",
   "toc_cell": false,
   "toc_position": {},
   "toc_section_display": true,
   "toc_window_display": false
  }
 },
 "nbformat": 4,
 "nbformat_minor": 5
}
